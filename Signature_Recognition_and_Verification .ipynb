{
 "cells": [
  {
   "cell_type": "markdown",
   "metadata": {
    "id": "4NsEktmTzULz"
   },
   "source": [
    "# **CNN Model**"
   ]
  },
  {
   "cell_type": "markdown",
   "metadata": {
    "id": "7A_fmzqRFq49"
   },
   "source": [
    "Step-1 Loading Dataset from zip file"
   ]
  },
  {
   "cell_type": "code",
   "execution_count": 44,
   "metadata": {},
   "outputs": [
    {
     "name": "stdout",
     "output_type": "stream",
     "text": [
      "Drive already mounted at /content/drive; to attempt to forcibly remount, call drive.mount(\"/content/drive\", force_remount=True).\n"
     ]
    }
   ],
   "source": [
    "from google.colab import drive\n",
    "drive.mount('/content/drive')"
   ]
  },
  {
   "cell_type": "code",
   "execution_count": 4,
   "metadata": {},
   "outputs": [
    {
     "name": "stdout",
     "output_type": "stream",
     "text": [
      "Extracted successfully to: /content/signs_dataset\n"
     ]
    }
   ],
   "source": [
    "import zipfile\n",
    "import os\n",
    "\n",
    "zip_path = \"/content/drive/MyDrive/signatures.zip\"\n",
    "extract_to = \"/content/signs_dataset\"\n",
    "\n",
    "# Extract only if not already done\n",
    "if not os.path.exists(extract_to):\n",
    "    with zipfile.ZipFile(zip_path, 'r') as zip_ref:\n",
    "        zip_ref.extractall(extract_to)\n",
    "\n",
    "print(\"Extracted successfully to:\", extract_to)"
   ]
  },
  {
   "cell_type": "code",
   "execution_count": 4,
   "metadata": {},
   "outputs": [],
   "source": []
  },
  {
   "cell_type": "markdown",
   "metadata": {
    "id": "fh0WJofyKulC"
   },
   "source": [
    "Step-2 Implementiing Preprocessing techniques for CNN model"
   ]
  },
  {
   "cell_type": "markdown",
   "metadata": {
    "id": "6ddXibXou4J4"
   },
   "source": [
    "i)Remove Lines"
   ]
  },
  {
   "cell_type": "code",
   "execution_count": 5,
   "metadata": {},
   "outputs": [],
   "source": [
    "import cv2\n",
    "import numpy as np\n",
    "from google.colab.patches import cv2_imshow\n",
    "\n",
    "def remove_borders(img):\n",
    "\n",
    "  #gray = cv2.cvtColor(img, cv2.COLOR_BGR2GRAY)\n",
    "\n",
    "  # Threshold\n",
    "  thresh = cv2.threshold(img, 0, 255, cv2.THRESH_BINARY_INV + cv2.THRESH_OTSU)[1]\n",
    "\n",
    "  # Detect horizontal lines\n",
    "  horizontal_kernel = cv2.getStructuringElement(cv2.MORPH_RECT, (40, 1))\n",
    "  detect_horizontal = cv2.morphologyEx(thresh, cv2.MORPH_OPEN, horizontal_kernel, iterations=2)\n",
    "\n",
    "  # Detect vertical lines\n",
    "  vertical_kernel = cv2.getStructuringElement(cv2.MORPH_RECT, (1, 40))\n",
    "  detect_vertical = cv2.morphologyEx(thresh, cv2.MORPH_OPEN, vertical_kernel, iterations=2)\n",
    "\n",
    "  # Combine line masks\n",
    "  lines = cv2.add(detect_horizontal, detect_vertical)\n",
    "\n",
    "  # Inpaint to remove lines\n",
    "  result = cv2.inpaint(img, lines, 3, cv2.INPAINT_TELEA)\n",
    "\n",
    "  # Save output\n",
    "  cv2.imwrite(\"output_no_lines.png\", result)\n",
    "\n",
    "  return result"
   ]
  },
  {
   "cell_type": "markdown",
   "metadata": {
    "id": "Uyuw4i5MLdJO"
   },
   "source": [
    "ii)  Binarization and Noise Removal"
   ]
  },
  {
   "cell_type": "code",
   "execution_count": 6,
   "metadata": {},
   "outputs": [],
   "source": [
    "import numpy as np\n",
    "import cv2\n",
    "\n",
    "def binarize_and_denoise(image):\n",
    "    # Apply a Gaussian blur to remove noise\n",
    "    denoised_image = cv2.GaussianBlur(image, (5, 5), 0)\n",
    "\n",
    "    # Use Otsu's thresholding to binarize the image\n",
    "    _, binarized_image = cv2.threshold(denoised_image, 0, 255, cv2.THRESH_BINARY + cv2.THRESH_OTSU)\n",
    "\n",
    "    # Invert the image if needed (to have the signature in white on a black background)\n",
    "    # The paper's feature extraction might work better with this format\n",
    "    inverted_image = cv2.bitwise_not(binarized_image)\n",
    "\n",
    "    return inverted_image"
   ]
  },
  {
   "cell_type": "markdown",
   "metadata": {
    "id": "YGgc5N418aHA"
   },
   "source": [
    "iii) Scaling"
   ]
  },
  {
   "cell_type": "code",
   "execution_count": 7,
   "metadata": {},
   "outputs": [],
   "source": [
    "def scale_signature(image):\n",
    "    \"\"\"\n",
    "    Scale down signature if it occupies more than 80% of the image width.\n",
    "    After scaling, center it on a canvas of original size to avoid cropping.\n",
    "    \"\"\"\n",
    "    contours, _ = cv2.findContours(image.copy(), cv2.RETR_EXTERNAL, cv2.CHAIN_APPROX_SIMPLE)\n",
    "    if not contours:\n",
    "        return image\n",
    "\n",
    "    largest_contour = max(contours, key=cv2.contourArea)\n",
    "    x, y, w, h = cv2.boundingRect(largest_contour)\n",
    "\n",
    "    if w > image.shape[1] * 0.6 or h > image.shape[0] * 0.6:\n",
    "        scale_factor = 1 / math.sqrt(2)\n",
    "        scaled_w = int(image.shape[1] * scale_factor)\n",
    "        scaled_h = int(image.shape[0] * scale_factor)\n",
    "\n",
    "        # Resize the image\n",
    "        scaled = cv2.resize(image, (scaled_w, scaled_h), interpolation=cv2.INTER_AREA)\n",
    "\n",
    "        # Create a blank canvas of original size\n",
    "        canvas = np.zeros_like(image) * 255\n",
    "\n",
    "        # Compute top-left corner to center the scaled image\n",
    "        start_x = (canvas.shape[1] - scaled_w) // 2\n",
    "        start_y = (canvas.shape[0] - scaled_h) // 2\n",
    "\n",
    "        # Place the scaled image onto the canvas\n",
    "        canvas[start_y:start_y+scaled_h, start_x:start_x+scaled_w] = scaled\n",
    "        return canvas\n",
    "\n",
    "    return image"
   ]
  },
  {
   "cell_type": "markdown",
   "metadata": {
    "id": "7ClvmSj48psf"
   },
   "source": [
    "iv) Centralization"
   ]
  },
  {
   "cell_type": "code",
   "execution_count": 8,
   "metadata": {},
   "outputs": [],
   "source": [
    "import cv2\n",
    "import numpy as np\n",
    "\n",
    "def center_signature(image):\n",
    "    # Find contours\n",
    "    contours, _ = cv2.findContours(image.copy(), cv2.RETR_EXTERNAL, cv2.CHAIN_APPROX_SIMPLE)\n",
    "    if not contours:\n",
    "        return image\n",
    "\n",
    "    # Sort contours by area (largest first)\n",
    "    contours = sorted(contours, key=cv2.contourArea, reverse=True)\n",
    "\n",
    "    # Take top 3 largest contours\n",
    "    top_contours = contours[:2]\n",
    "\n",
    "    # Combine them into one mask\n",
    "    mask = np.zeros_like(image)\n",
    "    cv2.drawContours(mask, top_contours, -1, (255), thickness=cv2.FILLED)\n",
    "\n",
    "    # Get bounding box of combined contours\n",
    "    x, y, w, h = cv2.boundingRect(mask)\n",
    "\n",
    "    # Create new blank canvas\n",
    "    canvas = np.zeros_like(image) * 255\n",
    "\n",
    "    # Center coordinates\n",
    "    center_x = image.shape[1] // 2\n",
    "    center_y = image.shape[0] // 2\n",
    "\n",
    "    # Calculate new top-left corner for centering\n",
    "    new_x = center_x - w // 2\n",
    "    new_y = center_y - h // 2\n",
    "\n",
    "    # Place the combined contour area on the centered canvas\n",
    "    canvas[new_y:new_y+h, new_x:new_x+w] = image[y:y+h, x:x+w]\n",
    "\n",
    "    return canvas"
   ]
  },
  {
   "cell_type": "markdown",
   "metadata": {
    "id": "pGUOu0aW8vJp"
   },
   "source": [
    "v) Rotation"
   ]
  },
  {
   "cell_type": "code",
   "execution_count": 9,
   "metadata": {},
   "outputs": [],
   "source": [
    "import cv2\n",
    "import numpy as np\n",
    "\n",
    "def rotate_signature(image, angle_threshold=5):\n",
    "    \"\"\"\n",
    "    Rotate signatures to horizontal without flipping upside down.\n",
    "    Works for both tilted and vertical cases.\n",
    "    \"\"\"\n",
    "    contours, _ = cv2.findContours(image.copy(), cv2.RETR_EXTERNAL, cv2.CHAIN_APPROX_SIMPLE)\n",
    "    if not contours:\n",
    "        return image\n",
    "\n",
    "    # Filter out very thin/long contours\n",
    "    contours = [c for c in contours if cv2.boundingRect(c)[2] > 5 and cv2.boundingRect(c)[3] > 5]\n",
    "    if not contours:\n",
    "        return image\n",
    "\n",
    "    # Get largest contour\n",
    "    largest_contour = max(contours, key=cv2.contourArea)\n",
    "    pts = largest_contour.reshape(-1, 2).astype(np.float32)\n",
    "\n",
    "    # PCA to find main orientation\n",
    "    mean, eigenvectors = cv2.PCACompute(pts, mean=None)[:2]\n",
    "    angle = np.degrees(np.arctan2(eigenvectors[0,1], eigenvectors[0,0]))\n",
    "\n",
    "    # Skip tiny rotations\n",
    "    if abs(angle) < angle_threshold:\n",
    "        return image\n",
    "\n",
    "    # Normalize angle to (-90, 90)\n",
    "    if angle < -90:\n",
    "        angle += 180\n",
    "    elif angle > 90:\n",
    "        angle -= 180\n",
    "\n",
    "    # Rotate image\n",
    "    (h, w) = image.shape[:2]\n",
    "    center = (w // 2, h // 2)\n",
    "    M = cv2.getRotationMatrix2D(center, angle, 1.0)\n",
    "    rotated = cv2.warpAffine(image, M, (w, h), flags=cv2.INTER_LINEAR, borderValue=0)\n",
    "\n",
    "    return rotated\n"
   ]
  },
  {
   "cell_type": "code",
   "execution_count": 10,
   "metadata": {},
   "outputs": [
    {
     "data": {
      "image/png": "[encoded data removed]",
      "text/plain": [
       "<Figure size 1000x400 with 6 Axes>"
      ]
     },
     "metadata": {},
     "output_type": "display_data"
    }
   ],
   "source": [
    "import cv2\n",
    "import math\n",
    "import matplotlib.pyplot as plt\n",
    "\n",
    "# Load image\n",
    "img_path = \"/content/signs_dataset/signatures/029/09201092.png\"\n",
    "img = cv2.imread(img_path, cv2.IMREAD_GRAYSCALE)\n",
    "\n",
    "# Process steps\n",
    "border_removed = remove_borders(img)\n",
    "binarized_img = binarize_and_denoise(border_removed)\n",
    "scaled_img = scale_signature(binarized_img)\n",
    "centered_img = center_signature(scaled_img)\n",
    "rotated_img = rotate_signature(centered_img)\n",
    "\n",
    "# List of images and titles\n",
    "images = [img,border_removed, binarized_img,scaled_img, centered_img, rotated_img]\n",
    "titles = [\"Original\", \"No Border\", \"Binarized\",\"Scaled\", \"Centered\", \"Rotated\"]\n",
    "\n",
    "# Plot in horizontal line\n",
    "plt.figure(figsize=(10, 4))\n",
    "for i, (image, title) in enumerate(zip(images, titles)):\n",
    "    plt.subplot(1, len(images), i+1)\n",
    "    plt.imshow(image, cmap='gray')\n",
    "    plt.title(title, fontsize=10)\n",
    "    plt.axis(\"off\")\n",
    "plt.tight_layout()\n",
    "plt.show()\n"
   ]
  },
  {
   "cell_type": "markdown",
   "metadata": {
    "id": "ZzJcwYHyAhmI"
   },
   "source": [
    "Step - 3 Aligning all preprocessing steps"
   ]
  },
  {
   "cell_type": "code",
   "execution_count": 11,
   "metadata": {},
   "outputs": [],
   "source": [
    "import cv2\n",
    "import numpy as np\n",
    "\n",
    "def preprocess_pipeline(image_path, target_size=(100, 100)):\n",
    "    # Load image in grayscale\n",
    "    image = cv2.imread(image_path, cv2.IMREAD_GRAYSCALE)\n",
    "    if image is None: return np.zeros(target_size, dtype=np.uint8)\n",
    "\n",
    "    # Apply preprocessing steps\n",
    "    image = remove_borders(image)\n",
    "    image = binarize_and_denoise(image)\n",
    "    image = scale_signature(image)\n",
    "    image = center_signature(image)\n",
    "    image = rotate_signature(image)\n",
    "\n",
    "    # Final binarization and inversion (as a safety measure)\n",
    "    #_, binary_final = cv2.threshold(image, 128, 255, cv2.THRESH_BINARY_INV)\n",
    "\n",
    "    # Resize to target size after all other preprocessing\n",
    "    final_image = cv2.resize(image, target_size, interpolation=cv2.INTER_AREA)\n",
    "\n",
    "\n",
    "    return final_image"
   ]
  },
  {
   "cell_type": "markdown",
   "metadata": {
    "id": "HwqxDUJNBNXM"
   },
   "source": [
    "Step-4 Creating Dataset Class"
   ]
  },
  {
   "cell_type": "code",
   "execution_count": 12,
   "metadata": {},
   "outputs": [],
   "source": [
    "import torch\n",
    "from torch.utils.data import Dataset\n",
    "import cv2\n",
    "import numpy as np\n",
    "import os\n",
    "import glob"
   ]
  },
  {
   "cell_type": "code",
   "execution_count": 13,
   "metadata": {},
   "outputs": [],
   "source": [
    "import torch\n",
    "from torch.utils.data import Dataset\n",
    "import cv2\n",
    "import numpy as np\n",
    "\n",
    "# Make sure all your preprocessing functions (preprocess_pipeline, remove_noise, etc.)\n",
    "# are defined and available in your notebook environment.\n",
    "\n",
    "class SignatureDataset(Dataset):\n",
    "    def __init__(self, image_paths, signer_ids, is_genuine_labels):\n",
    "        self.image_paths = image_paths\n",
    "        self.signer_ids = signer_ids\n",
    "        self.is_genuine_labels = is_genuine_labels\n",
    "\n",
    "        # Create a mapping for signer IDs to integer indices\n",
    "        unique_signer_ids = sorted(list(set(signer_ids)))\n",
    "        self.signer_id_map = {name: i for i, name in enumerate(unique_signer_ids)}\n",
    "\n",
    "    def __len__(self):\n",
    "        return len(self.image_paths)\n",
    "\n",
    "    def __getitem__(self, idx):\n",
    "        img_path = self.image_paths[idx]\n",
    "\n",
    "        # Load image and apply the full preprocessing pipeline\n",
    "        # (This assumes preprocess_pipeline is a single function that\n",
    "        # orchestrates your other preprocessing functions)\n",
    "        image = preprocess_pipeline(img_path)\n",
    "\n",
    "        # Convert to float, normalize, and add a channel dimension\n",
    "        image = image.astype(np.float32) / 255.0\n",
    "        image = np.expand_dims(image, axis=0) # PyTorch expects [C, H, W]\n",
    "\n",
    "        # Convert to a PyTorch tensor\n",
    "        image_tensor = torch.from_numpy(image)\n",
    "\n",
    "        # Get labels and convert to PyTorch tensors\n",
    "        signer_id_label = self.signer_id_map[self.signer_ids[idx]]\n",
    "        signer_id_tensor = torch.tensor(signer_id_label, dtype=torch.long)\n",
    "\n",
    "        genuine_label = self.is_genuine_labels[idx]\n",
    "        genuine_tensor = torch.tensor(genuine_label, dtype=torch.long)\n",
    "\n",
    "        # Return the preprocessed image and both labels\n",
    "        return image_tensor, signer_id_tensor, genuine_tensor"
   ]
  },
  {
   "cell_type": "code",
   "execution_count": 13,
   "metadata": {},
   "outputs": [],
   "source": []
  },
  {
   "cell_type": "markdown",
   "metadata": {
    "id": "JR3iT7b4DsrE"
   },
   "source": [
    "Step-5 Loading the dataset"
   ]
  },
  {
   "cell_type": "code",
   "execution_count": 14,
   "metadata": {},
   "outputs": [],
   "source": [
    "from torch.utils.data import DataLoader\n",
    "from sklearn.model_selection import train_test_split\n",
    "import glob\n",
    "import os\n",
    "import numpy as np\n",
    "import cv2\n",
    "import math"
   ]
  },
  {
   "cell_type": "code",
   "execution_count": 15,
   "metadata": {},
   "outputs": [
    {
     "name": "stdout",
     "output_type": "stream",
     "text": [
      "Data loading is complete.\n",
      "Number of training batches: 10\n"
     ]
    }
   ],
   "source": [
    "\n",
    "# Base directory where your data is extracted\n",
    "base_dir = \"/content/signs_dataset\"\n",
    "data_dir = os.path.join(base_dir, \"signatures\")\n",
    "\n",
    "# Lists to store image paths, signer IDs, and forgery labels\n",
    "image_paths = []\n",
    "signer_ids = []\n",
    "is_genuine = []\n",
    "\n",
    "for folder_name in os.listdir(data_dir):\n",
    "    folder_path = os.path.join(data_dir, folder_name)\n",
    "    if os.path.isdir(folder_path):\n",
    "        # Determine the signer ID and genuine flag from the folder name\n",
    "        if \"_forg\" in folder_name:\n",
    "            signer_id = folder_name.replace(\"_forg\", \"\")\n",
    "            genuine_flag = 0  # 0 for forged\n",
    "        else:\n",
    "            signer_id = folder_name\n",
    "            genuine_flag = 1  # 1 for genuine\n",
    "\n",
    "        for file_name in os.listdir(folder_path):\n",
    "            if file_name.endswith(('.png', '.jpg', '.jpeg', '.PNG')):\n",
    "                image_paths.append(os.path.join(folder_path, file_name))\n",
    "                signer_ids.append(signer_id)\n",
    "                is_genuine.append(genuine_flag)\n",
    "\n",
    "\n",
    "train_dataset = SignatureDataset(image_paths, signer_ids, is_genuine)\n",
    "\n",
    "# Create DataLoader objects\n",
    "batch_size = 32\n",
    "train_loader = DataLoader(train_dataset, batch_size=batch_size, shuffle=True)\n",
    "\n",
    "print(f\"Data loading is complete.\")\n",
    "print(f\"Number of training batches: {len(train_loader)}\")"
   ]
  },
  {
   "cell_type": "markdown",
   "metadata": {
    "id": "bGFRlDS1InRg"
   },
   "source": [
    "Display"
   ]
  },
  {
   "cell_type": "code",
   "execution_count": 17,
   "metadata": {},
   "outputs": [
    {
     "data": {
      "image/png": "[encoded data removed]",
      "text/plain": [
       "<Figure size 600x500 with 2 Axes>"
      ]
     },
     "metadata": {},
     "output_type": "display_data"
    }
   ],
   "source": [
    "import matplotlib.pyplot as plt\n",
    "\n",
    "random_index = np.random.randint(0, len(image_paths))\n",
    "random_image_path = image_paths[random_index]\n",
    "\n",
    "# 1. Load the original image\n",
    "original_image = cv2.imread(random_image_path, cv2.IMREAD_GRAYSCALE)\n",
    "\n",
    "# 2. Apply the preprocessing pipeline\n",
    "preprocessed_image = preprocess_pipeline(random_image_path)\n",
    "\n",
    "# Display the images\n",
    "fig, axes = plt.subplots(1, 2, figsize=(6, 5))\n",
    "\n",
    "# Original Image\n",
    "axes[0].imshow(original_image, cmap='gray')\n",
    "axes[0].set_title('Original Image')\n",
    "\n",
    "axes[0].axis('off') # Hide the axes\n",
    "\n",
    "# Preprocessed Image\n",
    "axes[1].imshow(preprocessed_image, cmap='gray')\n",
    "axes[1].set_title('Preprocessed Image')\n",
    "axes[1].axis('off') # Hide the axes\n",
    "\n",
    "plt.tight_layout()\n",
    "plt.show()"
   ]
  },
  {
   "cell_type": "code",
   "execution_count": 18,
   "metadata": {},
   "outputs": [
    {
     "data": {
      "image/png": "[encoded data removed]",
      "text/plain": [
       "<Figure size 1800x600 with 6 Axes>"
      ]
     },
     "metadata": {},
     "output_type": "display_data"
    }
   ],
   "source": [
    "import cv2\n",
    "import matplotlib.pyplot as plt\n",
    "\n",
    "# Load image\n",
    "img_path = image_paths[random_index]\n",
    "img = cv2.imread(img_path, cv2.IMREAD_GRAYSCALE)\n",
    "\n",
    "# Process steps\n",
    "border_removed = remove_borders(img)\n",
    "binarized_img = binarize_and_denoise(border_removed)\n",
    "scaled_img = scale_signature(binarized_img)\n",
    "centered_img = center_signature(scaled_img)\n",
    "rotated_img = rotate_signature(centered_img)\n",
    "\n",
    "# List of images and titles\n",
    "images = [img,border_removed, binarized_img,scaled_img, centered_img, rotated_img]\n",
    "titles = [\"Original\", \"No Border\", \"Binarized\",\"Scaled\", \"Centered\", \"Rotated\"]\n",
    "\n",
    "# Plot in horizontal line\n",
    "plt.figure(figsize=(18, 6))\n",
    "for i, (image, title) in enumerate(zip(images, titles)):\n",
    "    plt.subplot(1, len(images), i+1)\n",
    "    plt.imshow(image, cmap='gray')\n",
    "    plt.title(title, fontsize=10)\n",
    "    plt.axis(\"off\")\n",
    "plt.tight_layout()\n",
    "plt.show()\n"
   ]
  },
  {
   "cell_type": "code",
   "execution_count": 18,
   "metadata": {},
   "outputs": [],
   "source": []
  },
  {
   "cell_type": "markdown",
   "metadata": {
    "id": "U1ps2xddJF7b"
   },
   "source": [
    "Step-6 : Creating a CNN Model"
   ]
  },
  {
   "cell_type": "code",
   "execution_count": 19,
   "metadata": {},
   "outputs": [],
   "source": [
    "import torch\n",
    "import torch.nn as nn\n",
    "import torchvision.models as models\n",
    "\n",
    "class SignatureResNet(nn.Module):\n",
    "    def __init__(self, num_classes):\n",
    "        super(SignatureResNet, self).__init__()\n",
    "\n",
    "        # Load pretrained ResNet18\n",
    "        self.base_model = models.resnet18(pretrained=True)\n",
    "\n",
    "        # Modify first conv layer to accept 1-channel grayscale input\n",
    "        self.base_model.conv1 = nn.Conv2d(1, 64, kernel_size=7, stride=2, padding=3, bias=False)\n",
    "\n",
    "        # Replace final fully connected layer with custom classifier\n",
    "        self.base_model.fc = nn.Sequential(\n",
    "            nn.Linear(self.base_model.fc.in_features, 256),\n",
    "            nn.ReLU(),\n",
    "            nn.Dropout(0.5),\n",
    "            nn.Linear(256, num_classes)\n",
    "        )\n",
    "\n",
    "    def forward(self, x):\n",
    "        return self.base_model(x)"
   ]
  },
  {
   "cell_type": "code",
   "execution_count": 18,
   "metadata": {},
   "outputs": [],
   "source": []
  },
  {
   "cell_type": "markdown",
   "metadata": {
    "id": "IBOd1voHK1Zn"
   },
   "source": [
    "Step-7 Training the Model"
   ]
  },
  {
   "cell_type": "code",
   "execution_count": 19,
   "metadata": {},
   "outputs": [
    {
     "name": "stderr",
     "output_type": "stream",
     "text": [
      "/usr/local/lib/python3.11/dist-packages/torchvision/models/_utils.py:208: UserWarning: The parameter 'pretrained' is deprecated since 0.13 and may be removed in the future, please use 'weights' instead.\n",
      "  warnings.warn(\n",
      "/usr/local/lib/python3.11/dist-packages/torchvision/models/_utils.py:223: UserWarning: Arguments other than a weight enum or `None` for 'weights' are deprecated since 0.13 and may be removed in the future. The current behavior is equivalent to passing `weights=ResNet18_Weights.IMAGENET1K_V1`. You can also use `weights=ResNet18_Weights.DEFAULT` to get the most up-to-date weights.\n",
      "  warnings.warn(msg)\n",
      "Downloading: \"https://download.pytorch.org/models/resnet18-f37072fd.pth\" to /root/.cache/torch/hub/checkpoints/resnet18-f37072fd.pth\n",
      "100%|██████████| 44.7M/44.7M [00:00<00:00, 204MB/s]\n"
     ]
    },
    {
     "name": "stdout",
     "output_type": "stream",
     "text": [
      "Epoch [1/100] Train Loss: 4.6444 | Train Acc: 0.0433\n",
      "Best model saved at epoch 1 with acc: 0.0433\n",
      "Epoch [2/100] Train Loss: 3.9122 | Train Acc: 0.0600\n",
      "Best model saved at epoch 2 with acc: 0.0600\n",
      "Epoch [3/100] Train Loss: 4.2791 | Train Acc: 0.0667\n",
      "Best model saved at epoch 3 with acc: 0.0667\n",
      "Epoch [4/100] Train Loss: 3.8984 | Train Acc: 0.0400\n",
      "No improvement for 1 epoch(s)\n",
      "Epoch [5/100] Train Loss: 3.7646 | Train Acc: 0.0467\n",
      "No improvement for 2 epoch(s)\n",
      "Epoch [6/100] Train Loss: 3.5700 | Train Acc: 0.0600\n",
      "No improvement for 3 epoch(s)\n",
      "Epoch [7/100] Train Loss: 3.3832 | Train Acc: 0.0900\n",
      "Best model saved at epoch 7 with acc: 0.0900\n",
      "Epoch [8/100] Train Loss: 3.5838 | Train Acc: 0.0733\n",
      "No improvement for 1 epoch(s)\n",
      "Epoch [9/100] Train Loss: 3.2240 | Train Acc: 0.0800\n",
      "No improvement for 2 epoch(s)\n",
      "Epoch [10/100] Train Loss: 3.1917 | Train Acc: 0.0900\n",
      "No improvement for 3 epoch(s)\n",
      "Epoch [11/100] Train Loss: 3.0960 | Train Acc: 0.1033\n",
      "Best model saved at epoch 11 with acc: 0.1033\n",
      "Epoch [12/100] Train Loss: 3.0641 | Train Acc: 0.0733\n",
      "No improvement for 1 epoch(s)\n",
      "Epoch [13/100] Train Loss: 3.0557 | Train Acc: 0.0933\n",
      "No improvement for 2 epoch(s)\n",
      "Epoch [14/100] Train Loss: 3.0218 | Train Acc: 0.0900\n",
      "No improvement for 3 epoch(s)\n",
      "Epoch [15/100] Train Loss: 2.8929 | Train Acc: 0.1500\n",
      "Best model saved at epoch 15 with acc: 0.1500\n",
      "Epoch [16/100] Train Loss: 2.8644 | Train Acc: 0.1300\n",
      "No improvement for 1 epoch(s)\n",
      "Epoch [17/100] Train Loss: 2.9180 | Train Acc: 0.1267\n",
      "No improvement for 2 epoch(s)\n",
      "Epoch [18/100] Train Loss: 2.8021 | Train Acc: 0.1533\n",
      "Best model saved at epoch 18 with acc: 0.1533\n",
      "Epoch [19/100] Train Loss: 2.5904 | Train Acc: 0.1967\n",
      "Best model saved at epoch 19 with acc: 0.1967\n",
      "Epoch [20/100] Train Loss: 2.5590 | Train Acc: 0.2033\n",
      "Best model saved at epoch 20 with acc: 0.2033\n",
      "Epoch [21/100] Train Loss: 2.5012 | Train Acc: 0.2167\n",
      "Best model saved at epoch 21 with acc: 0.2167\n",
      "Epoch [22/100] Train Loss: 2.4605 | Train Acc: 0.2333\n",
      "Best model saved at epoch 22 with acc: 0.2333\n",
      "Epoch [23/100] Train Loss: 2.3336 | Train Acc: 0.2867\n",
      "Best model saved at epoch 23 with acc: 0.2867\n",
      "Epoch [24/100] Train Loss: 2.4203 | Train Acc: 0.2533\n",
      "No improvement for 1 epoch(s)\n",
      "Epoch [25/100] Train Loss: 2.2253 | Train Acc: 0.2667\n",
      "No improvement for 2 epoch(s)\n",
      "Epoch [26/100] Train Loss: 2.0085 | Train Acc: 0.3433\n",
      "Best model saved at epoch 26 with acc: 0.3433\n",
      "Epoch [27/100] Train Loss: 1.8920 | Train Acc: 0.3833\n",
      "Best model saved at epoch 27 with acc: 0.3833\n",
      "Epoch [28/100] Train Loss: 1.8677 | Train Acc: 0.3867\n",
      "Best model saved at epoch 28 with acc: 0.3867\n",
      "Epoch [29/100] Train Loss: 1.6780 | Train Acc: 0.4767\n",
      "Best model saved at epoch 29 with acc: 0.4767\n",
      "Epoch [30/100] Train Loss: 1.6113 | Train Acc: 0.5000\n",
      "Best model saved at epoch 30 with acc: 0.5000\n",
      "Epoch [31/100] Train Loss: 1.4456 | Train Acc: 0.5433\n",
      "Best model saved at epoch 31 with acc: 0.5433\n",
      "Epoch [32/100] Train Loss: 1.4289 | Train Acc: 0.5733\n",
      "Best model saved at epoch 32 with acc: 0.5733\n",
      "Epoch [33/100] Train Loss: 1.2515 | Train Acc: 0.6067\n",
      "Best model saved at epoch 33 with acc: 0.6067\n",
      "Epoch [34/100] Train Loss: 1.2143 | Train Acc: 0.5900\n",
      "No improvement for 1 epoch(s)\n",
      "Epoch [35/100] Train Loss: 1.0075 | Train Acc: 0.6667\n",
      "Best model saved at epoch 35 with acc: 0.6667\n",
      "Epoch [36/100] Train Loss: 0.9905 | Train Acc: 0.6533\n",
      "No improvement for 1 epoch(s)\n",
      "Epoch [37/100] Train Loss: 0.8536 | Train Acc: 0.7200\n",
      "Best model saved at epoch 37 with acc: 0.7200\n",
      "Epoch [38/100] Train Loss: 0.7304 | Train Acc: 0.7533\n",
      "Best model saved at epoch 38 with acc: 0.7533\n",
      "Epoch [39/100] Train Loss: 0.7146 | Train Acc: 0.7967\n",
      "Best model saved at epoch 39 with acc: 0.7967\n",
      "Epoch [40/100] Train Loss: 0.6730 | Train Acc: 0.8000\n",
      "Best model saved at epoch 40 with acc: 0.8000\n",
      "Epoch [41/100] Train Loss: 0.7548 | Train Acc: 0.7700\n",
      "No improvement for 1 epoch(s)\n",
      "Epoch [42/100] Train Loss: 0.6691 | Train Acc: 0.8100\n",
      "Best model saved at epoch 42 with acc: 0.8100\n",
      "Epoch [43/100] Train Loss: 0.4953 | Train Acc: 0.8333\n",
      "Best model saved at epoch 43 with acc: 0.8333\n",
      "Epoch [44/100] Train Loss: 0.3875 | Train Acc: 0.8800\n",
      "Best model saved at epoch 44 with acc: 0.8800\n",
      "Epoch [45/100] Train Loss: 0.3529 | Train Acc: 0.8700\n",
      "No improvement for 1 epoch(s)\n",
      "Epoch [46/100] Train Loss: 0.3558 | Train Acc: 0.8667\n",
      "No improvement for 2 epoch(s)\n",
      "Epoch [47/100] Train Loss: 0.2528 | Train Acc: 0.9100\n",
      "Best model saved at epoch 47 with acc: 0.9100\n",
      "Epoch [48/100] Train Loss: 0.2353 | Train Acc: 0.9000\n",
      "No improvement for 1 epoch(s)\n",
      "Epoch [49/100] Train Loss: 0.2775 | Train Acc: 0.9067\n",
      "No improvement for 2 epoch(s)\n",
      "Epoch [50/100] Train Loss: 0.3186 | Train Acc: 0.8967\n",
      "No improvement for 3 epoch(s)\n",
      "Epoch [51/100] Train Loss: 0.2548 | Train Acc: 0.9267\n",
      "Best model saved at epoch 51 with acc: 0.9267\n",
      "Epoch [52/100] Train Loss: 0.1858 | Train Acc: 0.9367\n",
      "Best model saved at epoch 52 with acc: 0.9367\n",
      "Epoch [53/100] Train Loss: 0.1730 | Train Acc: 0.9300\n",
      "No improvement for 1 epoch(s)\n",
      "Epoch [54/100] Train Loss: 0.1244 | Train Acc: 0.9500\n",
      "Best model saved at epoch 54 with acc: 0.9500\n",
      "Epoch [55/100] Train Loss: 0.1731 | Train Acc: 0.9333\n",
      "No improvement for 1 epoch(s)\n",
      "Epoch [56/100] Train Loss: 0.2011 | Train Acc: 0.9167\n",
      "No improvement for 2 epoch(s)\n",
      "Epoch [57/100] Train Loss: 0.2102 | Train Acc: 0.9200\n",
      "No improvement for 3 epoch(s)\n",
      "Epoch [58/100] Train Loss: 0.2110 | Train Acc: 0.9200\n",
      "No improvement for 4 epoch(s)\n",
      "Epoch [59/100] Train Loss: 0.2037 | Train Acc: 0.9200\n",
      "No improvement for 5 epoch(s)\n",
      "Epoch [60/100] Train Loss: 0.2843 | Train Acc: 0.8867\n",
      "No improvement for 6 epoch(s)\n",
      "Epoch [61/100] Train Loss: 0.2685 | Train Acc: 0.9067\n",
      "No improvement for 7 epoch(s)\n",
      "Epoch [62/100] Train Loss: 0.2711 | Train Acc: 0.9100\n",
      "No improvement for 8 epoch(s)\n",
      "Epoch [63/100] Train Loss: 0.2561 | Train Acc: 0.9400\n",
      "No improvement for 9 epoch(s)\n",
      "Epoch [64/100] Train Loss: 0.1925 | Train Acc: 0.9367\n",
      "No improvement for 10 epoch(s)\n",
      "Early stopping triggered at epoch 64\n"
     ]
    }
   ],
   "source": [
    "import torch\n",
    "import torch.nn as nn\n",
    "import torch.optim as optim\n",
    "from sklearn.metrics import accuracy_score\n",
    "import os\n",
    "\n",
    "# Device\n",
    "device = torch.device(\"cuda\" if torch.cuda.is_available() else \"cpu\")\n",
    "\n",
    "# Model\n",
    "num_classes = len(train_dataset.signer_id_map)\n",
    "model = SignatureResNet(num_classes=num_classes).to(device)\n",
    "\n",
    "# Weight Initialization\n",
    "def init_weights(m):\n",
    "    if isinstance(m, nn.Conv2d) or isinstance(m, nn.Linear):\n",
    "        nn.init.kaiming_normal_(m.weight)\n",
    "        if m.bias is not None:\n",
    "            nn.init.constant_(m.bias, 0)\n",
    "\n",
    "model.apply(init_weights)\n",
    "\n",
    "# Loss & Optimizer\n",
    "criterion = nn.CrossEntropyLoss()\n",
    "optimizer = optim.Adam(model.parameters(), lr=0.001)\n",
    "\n",
    "# Save Path\n",
    "save_dir = \"/content/drive/MyDrive/new_saved_models\"\n",
    "os.makedirs(save_dir, exist_ok=True)\n",
    "model_path = os.path.join(save_dir, \"signature_cnn_best.pth\")\n",
    "\n",
    "# Training Loop with Early Stopping\n",
    "num_epochs = 100\n",
    "patience = 10\n",
    "best_acc = 0.0\n",
    "epochs_no_improve = 0\n",
    "\n",
    "for epoch in range(num_epochs):\n",
    "    model.train()\n",
    "    train_loss = 0.0\n",
    "    train_preds = []\n",
    "    train_labels = []\n",
    "\n",
    "    for images, signer_labels, _ in train_loader:\n",
    "        images, signer_labels = images.to(device), signer_labels.to(device)\n",
    "\n",
    "        optimizer.zero_grad()\n",
    "        outputs = model(images)\n",
    "        loss = criterion(outputs, signer_labels)\n",
    "        loss.backward()\n",
    "        optimizer.step()\n",
    "\n",
    "        train_loss += loss.item() * images.size(0)\n",
    "        train_preds.extend(outputs.argmax(1).cpu().numpy())\n",
    "        train_labels.extend(signer_labels.cpu().numpy())\n",
    "\n",
    "    train_acc = accuracy_score(train_labels, train_preds)\n",
    "    avg_train_loss = train_loss / len(train_dataset)\n",
    "\n",
    "    print(f\"Epoch [{epoch+1}/{num_epochs}] \"\n",
    "          f\"Train Loss: {avg_train_loss:.4f} | Train Acc: {train_acc:.4f}\")\n",
    "\n",
    "    # Check for improvement\n",
    "    if train_acc > best_acc:\n",
    "        best_acc = train_acc\n",
    "        epochs_no_improve = 0\n",
    "        torch.save(model.state_dict(), model_path)\n",
    "        print(f\"Best model saved at epoch {epoch+1} with acc: {train_acc:.4f}\")\n",
    "    else:\n",
    "        epochs_no_improve += 1\n",
    "        print(f\"No improvement for {epochs_no_improve} epoch(s)\")\n",
    "\n",
    "    # Early stopping\n",
    "    if epochs_no_improve >= patience:\n",
    "        print(f\"Early stopping triggered at epoch {epoch+1}\")\n",
    "        break"
   ]
  },
  {
   "cell_type": "code",
   "execution_count": 19,
   "metadata": {},
   "outputs": [],
   "source": []
  },
  {
   "cell_type": "markdown",
   "metadata": {
    "id": "nK11oPewkg3j"
   },
   "source": [
    "Testing"
   ]
  },
  {
   "cell_type": "code",
   "execution_count": 20,
   "metadata": {},
   "outputs": [
    {
     "name": "stderr",
     "output_type": "stream",
     "text": [
      "/usr/local/lib/python3.11/dist-packages/torchvision/models/_utils.py:208: UserWarning: The parameter 'pretrained' is deprecated since 0.13 and may be removed in the future, please use 'weights' instead.\n",
      "  warnings.warn(\n",
      "/usr/local/lib/python3.11/dist-packages/torchvision/models/_utils.py:223: UserWarning: Arguments other than a weight enum or `None` for 'weights' are deprecated since 0.13 and may be removed in the future. The current behavior is equivalent to passing `weights=ResNet18_Weights.IMAGENET1K_V1`. You can also use `weights=ResNet18_Weights.DEFAULT` to get the most up-to-date weights.\n",
      "  warnings.warn(msg)\n",
      "Downloading: \"https://download.pytorch.org/models/resnet18-f37072fd.pth\" to /root/.cache/torch/hub/checkpoints/resnet18-f37072fd.pth\n",
      "100%|██████████| 44.7M/44.7M [00:00<00:00, 175MB/s]\n"
     ]
    }
   ],
   "source": [
    "# Device\n",
    "device = torch.device(\"cuda\" if torch.cuda.is_available() else \"cpu\")\n",
    "\n",
    "# Model\n",
    "num_classes = len(train_dataset.signer_id_map)\n",
    "model = SignatureResNet(num_classes=num_classes).to(device)"
   ]
  },
  {
   "cell_type": "code",
   "execution_count": 21,
   "metadata": {},
   "outputs": [],
   "source": [
    "model_path = \"/content/drive/MyDrive/new_saved_models/signature_cnn_best.pth\""
   ]
  },
  {
   "cell_type": "code",
   "execution_count": 22,
   "metadata": {},
   "outputs": [
    {
     "name": "stdout",
     "output_type": "stream",
     "text": [
      " Evaluation Accuracy on Training Data: 0.9633\n"
     ]
    }
   ],
   "source": [
    "import torch\n",
    "from sklearn.metrics import accuracy_score\n",
    "\n",
    "# Load the best saved model\n",
    "model.load_state_dict(torch.load(model_path))\n",
    "model.eval()\n",
    "\n",
    "# Move model to device\n",
    "model.to(device)\n",
    "\n",
    "# Evaluation loop\n",
    "test_preds = []\n",
    "test_labels = []\n",
    "\n",
    "with torch.no_grad():\n",
    "    for images, signer_labels, _ in train_loader:  # Reusing train_loader\n",
    "        images = images.to(device)\n",
    "        signer_labels = signer_labels.to(device)\n",
    "\n",
    "        outputs = model(images)\n",
    "        preds = outputs.argmax(1)\n",
    "\n",
    "        test_preds.extend(preds.cpu().numpy())\n",
    "        test_labels.extend(signer_labels.cpu().numpy())\n",
    "\n",
    "# Compute accuracy\n",
    "test_acc = accuracy_score(test_labels, test_preds)\n",
    "print(f\" Evaluation Accuracy on Training Data: {test_acc:.4f}\")\n"
   ]
  },
  {
   "cell_type": "code",
   "execution_count": 22,
   "metadata": {},
   "outputs": [],
   "source": []
  },
  {
   "cell_type": "markdown",
   "metadata": {
    "id": "d4z89qiFmvkQ"
   },
   "source": [
    "Testing by giving and input signature"
   ]
  },
  {
   "cell_type": "code",
   "execution_count": 23,
   "metadata": {},
   "outputs": [],
   "source": [
    "signer_id_map = train_dataset.signer_id_map"
   ]
  },
  {
   "cell_type": "code",
   "execution_count": 24,
   "metadata": {},
   "outputs": [],
   "source": [
    "reverse_map = {v: k for k, v in signer_id_map.items()}"
   ]
  },
  {
   "cell_type": "code",
   "execution_count": 25,
   "metadata": {},
   "outputs": [
    {
     "name": "stdout",
     "output_type": "stream",
     "text": [
      "{'001': 0, '002': 1, '003': 2, '004': 3, '005': 4, '006': 5, '007': 6, '008': 7, '009': 8, '010': 9, '011': 10, '012': 11, '013': 12, '014': 13, '015': 14, '016': 15, '017': 16, '018': 17, '019': 18, '020': 19, '021': 20, '022': 21, '023': 22, '024': 23, '025': 24, '026': 25, '027': 26, '028': 27, '029': 28, '030': 29}\n"
     ]
    }
   ],
   "source": [
    "print(train_dataset.signer_id_map)"
   ]
  },
  {
   "cell_type": "code",
   "execution_count": 26,
   "metadata": {},
   "outputs": [
    {
     "name": "stdout",
     "output_type": "stream",
     "text": [
      "{0: '001', 1: '002', 2: '003', 3: '004', 4: '005', 5: '006', 6: '007', 7: '008', 8: '009', 9: '010', 10: '011', 11: '012', 12: '013', 13: '014', 14: '015', 15: '016', 16: '017', 17: '018', 18: '019', 19: '020', 20: '021', 21: '022', 22: '023', 23: '024', 24: '025', 25: '026', 26: '027', 27: '028', 28: '029', 29: '030'}\n"
     ]
    }
   ],
   "source": [
    "print(reverse_map)"
   ]
  },
  {
   "cell_type": "code",
   "execution_count": 27,
   "metadata": {},
   "outputs": [
    {
     "name": "stderr",
     "output_type": "stream",
     "text": [
      "/usr/local/lib/python3.11/dist-packages/torchvision/models/_utils.py:208: UserWarning: The parameter 'pretrained' is deprecated since 0.13 and may be removed in the future, please use 'weights' instead.\n",
      "  warnings.warn(\n",
      "/usr/local/lib/python3.11/dist-packages/torchvision/models/_utils.py:223: UserWarning: Arguments other than a weight enum or `None` for 'weights' are deprecated since 0.13 and may be removed in the future. The current behavior is equivalent to passing `weights=ResNet18_Weights.IMAGENET1K_V1`. You can also use `weights=ResNet18_Weights.DEFAULT` to get the most up-to-date weights.\n",
      "  warnings.warn(msg)\n"
     ]
    },
    {
     "data": {
      "text/plain": [
       "<All keys matched successfully>"
      ]
     },
     "execution_count": 27,
     "metadata": {},
     "output_type": "execute_result"
    }
   ],
   "source": [
    "model = SignatureResNet(num_classes=num_classes).to(device)\n",
    "model.load_state_dict(torch.load(model_path))"
   ]
  },
  {
   "cell_type": "code",
   "execution_count": 28,
   "metadata": {},
   "outputs": [],
   "source": [
    "def predict_signer(image_path):\n",
    "    # Load and preprocess the image\n",
    "    image = preprocess_pipeline(image_path)\n",
    "    image = image.astype(np.float32) / 255.0\n",
    "    image = np.expand_dims(image, axis=0)  # [1, H, W] → channel dimension\n",
    "    image = np.expand_dims(image, axis=0)  # [1, 1, H, W] → batch dimension\n",
    "\n",
    "    image_tensor = torch.from_numpy(image).to(device)\n",
    "\n",
    "    with torch.no_grad():\n",
    "        output = model(image_tensor)\n",
    "        predicted_id = output.argmax(1).item()\n",
    "\n",
    "    #print(f\"Predicted Signer ID: {predicted_id}\")\n",
    "    return predicted_id"
   ]
  },
  {
   "cell_type": "code",
   "execution_count": 29,
   "metadata": {},
   "outputs": [
    {
     "data": {
      "text/plain": [
       "SignatureResNet(\n",
       "  (base_model): ResNet(\n",
       "    (conv1): Conv2d(1, 64, kernel_size=(7, 7), stride=(2, 2), padding=(3, 3), bias=False)\n",
       "    (bn1): BatchNorm2d(64, eps=1e-05, momentum=0.1, affine=True, track_running_stats=True)\n",
       "    (relu): ReLU(inplace=True)\n",
       "    (maxpool): MaxPool2d(kernel_size=3, stride=2, padding=1, dilation=1, ceil_mode=False)\n",
       "    (layer1): Sequential(\n",
       "      (0): BasicBlock(\n",
       "        (conv1): Conv2d(64, 64, kernel_size=(3, 3), stride=(1, 1), padding=(1, 1), bias=False)\n",
       "        (bn1): BatchNorm2d(64, eps=1e-05, momentum=0.1, affine=True, track_running_stats=True)\n",
       "        (relu): ReLU(inplace=True)\n",
       "        (conv2): Conv2d(64, 64, kernel_size=(3, 3), stride=(1, 1), padding=(1, 1), bias=False)\n",
       "        (bn2): BatchNorm2d(64, eps=1e-05, momentum=0.1, affine=True, track_running_stats=True)\n",
       "      )\n",
       "      (1): BasicBlock(\n",
       "        (conv1): Conv2d(64, 64, kernel_size=(3, 3), stride=(1, 1), padding=(1, 1), bias=False)\n",
       "        (bn1): BatchNorm2d(64, eps=1e-05, momentum=0.1, affine=True, track_running_stats=True)\n",
       "        (relu): ReLU(inplace=True)\n",
       "        (conv2): Conv2d(64, 64, kernel_size=(3, 3), stride=(1, 1), padding=(1, 1), bias=False)\n",
       "        (bn2): BatchNorm2d(64, eps=1e-05, momentum=0.1, affine=True, track_running_stats=True)\n",
       "      )\n",
       "    )\n",
       "    (layer2): Sequential(\n",
       "      (0): BasicBlock(\n",
       "        (conv1): Conv2d(64, 128, kernel_size=(3, 3), stride=(2, 2), padding=(1, 1), bias=False)\n",
       "        (bn1): BatchNorm2d(128, eps=1e-05, momentum=0.1, affine=True, track_running_stats=True)\n",
       "        (relu): ReLU(inplace=True)\n",
       "        (conv2): Conv2d(128, 128, kernel_size=(3, 3), stride=(1, 1), padding=(1, 1), bias=False)\n",
       "        (bn2): BatchNorm2d(128, eps=1e-05, momentum=0.1, affine=True, track_running_stats=True)\n",
       "        (downsample): Sequential(\n",
       "          (0): Conv2d(64, 128, kernel_size=(1, 1), stride=(2, 2), bias=False)\n",
       "          (1): BatchNorm2d(128, eps=1e-05, momentum=0.1, affine=True, track_running_stats=True)\n",
       "        )\n",
       "      )\n",
       "      (1): BasicBlock(\n",
       "        (conv1): Conv2d(128, 128, kernel_size=(3, 3), stride=(1, 1), padding=(1, 1), bias=False)\n",
       "        (bn1): BatchNorm2d(128, eps=1e-05, momentum=0.1, affine=True, track_running_stats=True)\n",
       "        (relu): ReLU(inplace=True)\n",
       "        (conv2): Conv2d(128, 128, kernel_size=(3, 3), stride=(1, 1), padding=(1, 1), bias=False)\n",
       "        (bn2): BatchNorm2d(128, eps=1e-05, momentum=0.1, affine=True, track_running_stats=True)\n",
       "      )\n",
       "    )\n",
       "    (layer3): Sequential(\n",
       "      (0): BasicBlock(\n",
       "        (conv1): Conv2d(128, 256, kernel_size=(3, 3), stride=(2, 2), padding=(1, 1), bias=False)\n",
       "        (bn1): BatchNorm2d(256, eps=1e-05, momentum=0.1, affine=True, track_running_stats=True)\n",
       "        (relu): ReLU(inplace=True)\n",
       "        (conv2): Conv2d(256, 256, kernel_size=(3, 3), stride=(1, 1), padding=(1, 1), bias=False)\n",
       "        (bn2): BatchNorm2d(256, eps=1e-05, momentum=0.1, affine=True, track_running_stats=True)\n",
       "        (downsample): Sequential(\n",
       "          (0): Conv2d(128, 256, kernel_size=(1, 1), stride=(2, 2), bias=False)\n",
       "          (1): BatchNorm2d(256, eps=1e-05, momentum=0.1, affine=True, track_running_stats=True)\n",
       "        )\n",
       "      )\n",
       "      (1): BasicBlock(\n",
       "        (conv1): Conv2d(256, 256, kernel_size=(3, 3), stride=(1, 1), padding=(1, 1), bias=False)\n",
       "        (bn1): BatchNorm2d(256, eps=1e-05, momentum=0.1, affine=True, track_running_stats=True)\n",
       "        (relu): ReLU(inplace=True)\n",
       "        (conv2): Conv2d(256, 256, kernel_size=(3, 3), stride=(1, 1), padding=(1, 1), bias=False)\n",
       "        (bn2): BatchNorm2d(256, eps=1e-05, momentum=0.1, affine=True, track_running_stats=True)\n",
       "      )\n",
       "    )\n",
       "    (layer4): Sequential(\n",
       "      (0): BasicBlock(\n",
       "        (conv1): Conv2d(256, 512, kernel_size=(3, 3), stride=(2, 2), padding=(1, 1), bias=False)\n",
       "        (bn1): BatchNorm2d(512, eps=1e-05, momentum=0.1, affine=True, track_running_stats=True)\n",
       "        (relu): ReLU(inplace=True)\n",
       "        (conv2): Conv2d(512, 512, kernel_size=(3, 3), stride=(1, 1), padding=(1, 1), bias=False)\n",
       "        (bn2): BatchNorm2d(512, eps=1e-05, momentum=0.1, affine=True, track_running_stats=True)\n",
       "        (downsample): Sequential(\n",
       "          (0): Conv2d(256, 512, kernel_size=(1, 1), stride=(2, 2), bias=False)\n",
       "          (1): BatchNorm2d(512, eps=1e-05, momentum=0.1, affine=True, track_running_stats=True)\n",
       "        )\n",
       "      )\n",
       "      (1): BasicBlock(\n",
       "        (conv1): Conv2d(512, 512, kernel_size=(3, 3), stride=(1, 1), padding=(1, 1), bias=False)\n",
       "        (bn1): BatchNorm2d(512, eps=1e-05, momentum=0.1, affine=True, track_running_stats=True)\n",
       "        (relu): ReLU(inplace=True)\n",
       "        (conv2): Conv2d(512, 512, kernel_size=(3, 3), stride=(1, 1), padding=(1, 1), bias=False)\n",
       "        (bn2): BatchNorm2d(512, eps=1e-05, momentum=0.1, affine=True, track_running_stats=True)\n",
       "      )\n",
       "    )\n",
       "    (avgpool): AdaptiveAvgPool2d(output_size=(1, 1))\n",
       "    (fc): Sequential(\n",
       "      (0): Linear(in_features=512, out_features=256, bias=True)\n",
       "      (1): ReLU()\n",
       "      (2): Dropout(p=0.5, inplace=False)\n",
       "      (3): Linear(in_features=256, out_features=30, bias=True)\n",
       "    )\n",
       "  )\n",
       ")"
      ]
     },
     "execution_count": 29,
     "metadata": {},
     "output_type": "execute_result"
    }
   ],
   "source": [
    "model = SignatureResNet(num_classes=num_classes).to(device)\n",
    "model.load_state_dict(torch.load(model_path))\n",
    "model.eval()"
   ]
  },
  {
   "cell_type": "code",
   "execution_count": 30,
   "metadata": {},
   "outputs": [
    {
     "name": "stdout",
     "output_type": "stream",
     "text": [
      "1\n"
     ]
    }
   ],
   "source": [
    "image_path = \"/content/signs_dataset/signatures/002_forg/02102002.png\"\n",
    "predicted_id = predict_signer(image_path)\n",
    "print(predicted_id)"
   ]
  },
  {
   "cell_type": "code",
   "execution_count": 31,
   "metadata": {},
   "outputs": [
    {
     "name": "stdout",
     "output_type": "stream",
     "text": [
      "🖋️ Predicted Signer ID: 1\n",
      "🔍 Predicted Signer Name: 002\n"
     ]
    }
   ],
   "source": [
    "predicted_signer_name = reverse_map[predicted_id]\n",
    "print(f\"🖋️ Predicted Signer ID: {predicted_id}\")\n",
    "print(f\"🔍 Predicted Signer Name: {predicted_signer_name}\")"
   ]
  },
  {
   "cell_type": "code",
   "execution_count": 31,
   "metadata": {},
   "outputs": [],
   "source": []
  },
  {
   "cell_type": "markdown",
   "metadata": {
    "id": "SoaZtJekyhGK"
   },
   "source": [
    "# **Detection**"
   ]
  },
  {
   "cell_type": "markdown",
   "metadata": {
    "id": "3tAzA8zfy7A3"
   },
   "source": [
    "getting the embeddings"
   ]
  },
  {
   "cell_type": "code",
   "execution_count": 32,
   "metadata": {},
   "outputs": [],
   "source": [
    "import torch.nn.functional as F\n",
    "import os\n",
    "\n",
    "def get_embedding(image_path):\n",
    "    image = preprocess_pipeline(image_path)\n",
    "    image = image.astype(np.float32) / 255.0\n",
    "    image = np.expand_dims(image, axis=0)  # [1, H, W]\n",
    "    image = np.expand_dims(image, axis=0)  # [1, 1, H, W]\n",
    "    image_tensor = torch.from_numpy(image).to(device)\n",
    "\n",
    "    with torch.no_grad():\n",
    "        features = model.base_model.avgpool(model.base_model.layer4(model.base_model.layer3(\n",
    "            model.base_model.layer2(model.base_model.layer1(model.base_model.relu(\n",
    "                model.base_model.bn1(model.base_model.conv1(image_tensor))))))))\n",
    "        embedding = features.view(features.size(0), -1)  # Flatten\n",
    "    return embedding.squeeze(0)  # Remove batch dimension"
   ]
  },
  {
   "cell_type": "code",
   "execution_count": 33,
   "metadata": {},
   "outputs": [],
   "source": [
    "from sklearn.metrics.pairwise import cosine_similarity\n",
    "import numpy as np\n",
    "\n",
    "def verify_signature(input_path, signer_id):\n",
    "    base_path = \"/content/signs_dataset/signatures\"\n",
    "    genuine_folder = os.path.join(base_path, signer_id)\n",
    "    forged_folder = os.path.join(base_path, signer_id + \"_forg\")\n",
    "\n",
    "    input_embedding = get_embedding(input_path)\n",
    "\n",
    "    genuine_scores = []\n",
    "    forged_scores = []\n",
    "\n",
    "    # Compare with genuine samples\n",
    "    for fname in os.listdir(genuine_folder):\n",
    "        if fname.endswith(('.png', '.jpg', '.jpeg')):\n",
    "            emb = get_embedding(os.path.join(genuine_folder, fname))\n",
    "            score = cosine_similarity([input_embedding.cpu().numpy()], [emb.cpu().numpy()])[0][0]\n",
    "            genuine_scores.append(score)\n",
    "\n",
    "    # Compare with forged samples\n",
    "    for fname in os.listdir(forged_folder):\n",
    "        if fname.endswith(('.png', '.jpg', '.jpeg')):\n",
    "            emb = get_embedding(os.path.join(forged_folder, fname))\n",
    "            score = cosine_similarity([input_embedding.cpu().numpy()], [emb.cpu().numpy()])[0][0]\n",
    "            forged_scores.append(score)\n",
    "\n",
    "    avg_genuine = np.mean(genuine_scores)\n",
    "    avg_forged = np.mean(forged_scores)\n",
    "\n",
    "    #print(f\"Avg Genuine Similarity: {avg_genuine:.4f}\")\n",
    "    #print(f\"Avg Forged Similarity: {avg_forged:.4f}\")\n",
    "\n",
    "    if avg_genuine > avg_forged:\n",
    "        #print(\"Prediction: Signature is likely GENUINE\")\n",
    "        return True, avg_genuine, avg_forged\n",
    "    else:\n",
    "        #print(\"Prediction: Signature is likely FORGED\")\n",
    "        return False, avg_genuine, avg_forged\n",
    "\n"
   ]
  },
  {
   "cell_type": "code",
   "execution_count": 34,
   "metadata": {},
   "outputs": [],
   "source": [
    "is_real = verify_signature(image_path, predicted_signer_name)"
   ]
  },
  {
   "cell_type": "code",
   "execution_count": 34,
   "metadata": {},
   "outputs": [],
   "source": []
  },
  {
   "cell_type": "markdown",
   "metadata": {
    "id": "UYTYwLqgFgQj"
   },
   "source": [
    "For New User verification"
   ]
  },
  {
   "cell_type": "code",
   "execution_count": 35,
   "metadata": {},
   "outputs": [],
   "source": [
    "# Verification method\n",
    "def verify_signature_test(genuine_paths, test_path, threshold=0.9):\n",
    "    genuine_embeddings = [get_embedding(path) for path in genuine_paths]\n",
    "    test_embedding = get_embedding(test_path)\n",
    "\n",
    "    similarities = [\n",
    "        F.cosine_similarity(test_embedding.unsqueeze(0), g.unsqueeze(0)).item()\n",
    "        for g in genuine_embeddings\n",
    "    ]\n",
    "    avg_similarity = sum(similarities) / len(similarities)\n",
    "\n",
    "    result = \"Genuine\" if avg_similarity > threshold else \"Forged\"\n",
    "    return result, avg_similarity"
   ]
  },
  {
   "cell_type": "code",
   "execution_count": 35,
   "metadata": {},
   "outputs": [],
   "source": []
  },
  {
   "cell_type": "code",
   "execution_count": 41,
   "metadata": {},
   "outputs": [
    {
     "data": {
      "application/vnd.jupyter.widget-view+json": {
       "model_id": "cd9a24c1b68d4f9f9e8722544081d6f7",
       "version_major": 2,
       "version_minor": 0
      },
      "text/plain": [
       "VBox(children=(ToggleButtons(description='Mode:', options=('Existing User', 'New User'), value='Existing User'…"
      ]
     },
     "metadata": {},
     "output_type": "display_data"
    }
   ],
   "source": [
    "import ipywidgets as widgets\n",
    "from IPython.display import display, clear_output\n",
    "import tempfile\n",
    "import os\n",
    "\n",
    "# Widgets\n",
    "mode_selector = widgets.ToggleButtons(options=[\"Existing User\", \"New User\"], description=\"Mode:\")\n",
    "existing_upload = widgets.FileUpload(accept='.png,.jpg,.jpeg', description=\"Upload Test Sign\", multiple=False)\n",
    "new_genuine_upload = widgets.FileUpload(accept='.png,.jpg,.jpeg', description=\"Genuine Signs-5+\", multiple=True)\n",
    "new_test_upload = widgets.FileUpload(accept='.png,.jpg,.jpeg', description=\"Upload Test Sign\", multiple=False)\n",
    "verify_button = widgets.Button(description=\"Verify\", button_style='success')\n",
    "output = widgets.Output()\n",
    "\n",
    "# Helper to save uploaded bytes to temp file\n",
    "def save_temp_file(file_bytes, suffix=\".png\"):\n",
    "    temp = tempfile.NamedTemporaryFile(delete=False, suffix=suffix)\n",
    "    temp.write(file_bytes)\n",
    "    temp.close()\n",
    "    return temp.name\n",
    "\n",
    "# 🧹 Helper to reset widgets\n",
    "def reset_widgets():\n",
    "    existing_upload.value.clear()\n",
    "    new_genuine_upload.value.clear()\n",
    "    new_test_upload.value.clear()\n",
    "    existing_upload._counter = 0\n",
    "    new_genuine_upload._counter = 0\n",
    "    new_test_upload._counter = 0\n",
    "\n",
    "# Main logic\n",
    "def on_verify_clicked(b):\n",
    "    output.clear_output()\n",
    "    mode = mode_selector.value\n",
    "\n",
    "    with output:\n",
    "        if mode == \"Existing User\":\n",
    "            if not existing_upload.value:\n",
    "                print(\"Upload a test signature.\")\n",
    "                return\n",
    "            test_bytes = list(existing_upload.value.values())[0]['content']\n",
    "            test_path = save_temp_file(test_bytes)\n",
    "\n",
    "            predicted_id = predict_signer(test_path)\n",
    "            predicted_name = reverse_map[predicted_id]\n",
    "            print(f\"Predicted Signer ID: {predicted_id}\")\n",
    "            print(f\"Predicted ID: {predicted_id}\")\n",
    "            print(f\"Predicted Name: {predicted_name}\")\n",
    "\n",
    "            is_real, gen_sim, forg_sim = verify_signature(test_path, predicted_name)\n",
    "            print(f\"Avg Genuine Similarity: {gen_sim:.4f}\")\n",
    "            print(f\"Avg Forged Similarity: {forg_sim:.4f}\")\n",
    "            print(f\"Prediction: Signature is likely {'GENUINE' if is_real else 'FORGED'}\")\n",
    "            print(f\"Result: {'Genuine ✅' if is_real else 'Forged ❌'}\")\n",
    "\n",
    "            os.remove(test_path)\n",
    "\n",
    "        else:  # New User\n",
    "            if len(new_genuine_upload.value) < 5:\n",
    "                print(\"Upload at least 5 genuine samples.\")\n",
    "                return\n",
    "            if not new_test_upload.value:\n",
    "                print(\"Upload a test signature.\")\n",
    "                return\n",
    "\n",
    "            genuine_paths = [save_temp_file(file['content']) for file in new_genuine_upload.value.values()]\n",
    "            test_bytes = list(new_test_upload.value.values())[0]['content']\n",
    "            test_path = save_temp_file(test_bytes)\n",
    "\n",
    "            result, avg_sim = verify_signature_test(genuine_paths, test_path)\n",
    "            print(f\"Similarity: {avg_sim:.4f}\")\n",
    "            print(f\"Result: {result} {'✅' if result == 'Genuine' else '❌'}\")\n",
    "\n",
    "            for path in genuine_paths:\n",
    "                os.remove(path)\n",
    "            os.remove(test_path)\n",
    "\n",
    "        reset_widgets()\n",
    "        print(\"\\n✅ Verification complete. Ready for next input.\")\n",
    "\n",
    "\n",
    "verify_button.on_click(on_verify_clicked)\n",
    "\n",
    "# 🔄 Dynamic visibility\n",
    "def update_visibility(change):\n",
    "    if change['new'] == \"Existing User\":\n",
    "        existing_upload.layout.display = 'block'\n",
    "        new_genuine_upload.layout.display = 'none'\n",
    "        new_test_upload.layout.display = 'none'\n",
    "    else:\n",
    "        existing_upload.layout.display = 'none'\n",
    "        new_genuine_upload.layout.display = 'block'\n",
    "        new_test_upload.layout.display = 'block'\n",
    "\n",
    "mode_selector.observe(update_visibility, names='value')\n",
    "update_visibility({'new': mode_selector.value})  # Initial setup\n",
    "\n",
    "# 📦 Display interface\n",
    "display(widgets.VBox([\n",
    "    mode_selector,\n",
    "    existing_upload,\n",
    "    new_genuine_upload,\n",
    "    new_test_upload,\n",
    "    verify_button,\n",
    "    output\n",
    "]))"
   ]
  },
  {
   "cell_type": "code",
   "execution_count": null,
   "metadata": {},
   "outputs": [],
   "source": []
  },
  {
   "cell_type": "code",
   "execution_count": 46,
   "metadata": {},
   "outputs": [
    {
     "name": "stdout",
     "output_type": "stream",
     "text": [
      "[NbConvertApp] WARNING | pattern '/content/*.ipynb' matched no files\n",
      "This application is used to convert notebook files (*.ipynb)\n",
      "        to various other formats.\n",
      "\n",
      "        WARNING: THE COMMANDLINE INTERFACE MAY CHANGE IN FUTURE RELEASES.\n",
      "\n",
      "Options\n",
      "=======\n",
      "The options below are convenience aliases to configurable class-options,\n",
      "as listed in the \"Equivalent to\" description-line of the aliases.\n",
      "To see all configurable class-options for some <cmd>, use:\n",
      "    <cmd> --help-all\n",
      "\n",
      "--debug\n",
      "    set log level to logging.DEBUG (maximize logging output)\n",
      "    Equivalent to: [--Application.log_level=10]\n",
      "--show-config\n",
      "    Show the application's configuration (human-readable format)\n",
      "    Equivalent to: [--Application.show_config=True]\n",
      "--show-config-json\n",
      "    Show the application's configuration (json format)\n",
      "    Equivalent to: [--Application.show_config_json=True]\n",
      "--generate-config\n",
      "    generate default config file\n",
      "    Equivalent to: [--JupyterApp.generate_config=True]\n",
      "-y\n",
      "    Answer yes to any questions instead of prompting.\n",
      "    Equivalent to: [--JupyterApp.answer_yes=True]\n",
      "--execute\n",
      "    Execute the notebook prior to export.\n",
      "    Equivalent to: [--ExecutePreprocessor.enabled=True]\n",
      "--allow-errors\n",
      "    Continue notebook execution even if one of the cells throws an error and include the error message in the cell output (the default behaviour is to abort conversion). This flag is only relevant if '--execute' was specified, too.\n",
      "    Equivalent to: [--ExecutePreprocessor.allow_errors=True]\n",
      "--stdin\n",
      "    read a single notebook file from stdin. Write the resulting notebook with default basename 'notebook.*'\n",
      "    Equivalent to: [--NbConvertApp.from_stdin=True]\n",
      "--stdout\n",
      "    Write notebook output to stdout instead of files.\n",
      "    Equivalent to: [--NbConvertApp.writer_class=StdoutWriter]\n",
      "--inplace\n",
      "    Run nbconvert in place, overwriting the existing notebook (only\n",
      "            relevant when converting to notebook format)\n",
      "    Equivalent to: [--NbConvertApp.use_output_suffix=False --NbConvertApp.export_format=notebook --FilesWriter.build_directory=]\n",
      "--clear-output\n",
      "    Clear output of current file and save in place,\n",
      "            overwriting the existing notebook.\n",
      "    Equivalent to: [--NbConvertApp.use_output_suffix=False --NbConvertApp.export_format=notebook --FilesWriter.build_directory= --ClearOutputPreprocessor.enabled=True]\n",
      "--coalesce-streams\n",
      "    Coalesce consecutive stdout and stderr outputs into one stream (within each cell).\n",
      "    Equivalent to: [--NbConvertApp.use_output_suffix=False --NbConvertApp.export_format=notebook --FilesWriter.build_directory= --CoalesceStreamsPreprocessor.enabled=True]\n",
      "--no-prompt\n",
      "    Exclude input and output prompts from converted document.\n",
      "    Equivalent to: [--TemplateExporter.exclude_input_prompt=True --TemplateExporter.exclude_output_prompt=True]\n",
      "--no-input\n",
      "    Exclude input cells and output prompts from converted document.\n",
      "            This mode is ideal for generating code-free reports.\n",
      "    Equivalent to: [--TemplateExporter.exclude_output_prompt=True --TemplateExporter.exclude_input=True --TemplateExporter.exclude_input_prompt=True]\n",
      "--allow-chromium-download\n",
      "    Whether to allow downloading chromium if no suitable version is found on the system.\n",
      "    Equivalent to: [--WebPDFExporter.allow_chromium_download=True]\n",
      "--disable-chromium-sandbox\n",
      "    Disable chromium security sandbox when converting to PDF..\n",
      "    Equivalent to: [--WebPDFExporter.disable_sandbox=True]\n",
      "--show-input\n",
      "    Shows code input. This flag is only useful for dejavu users.\n",
      "    Equivalent to: [--TemplateExporter.exclude_input=False]\n",
      "--embed-images\n",
      "    Embed the images as base64 dataurls in the output. This flag is only useful for the HTML/WebPDF/Slides exports.\n",
      "    Equivalent to: [--HTMLExporter.embed_images=True]\n",
      "--sanitize-html\n",
      "    Whether the HTML in Markdown cells and cell outputs should be sanitized..\n",
      "    Equivalent to: [--HTMLExporter.sanitize_html=True]\n",
      "--log-level=<Enum>\n",
      "    Set the log level by value or name.\n",
      "    Choices: any of [0, 10, 20, 30, 40, 50, 'DEBUG', 'INFO', 'WARN', 'ERROR', 'CRITICAL']\n",
      "    Default: 30\n",
      "    Equivalent to: [--Application.log_level]\n",
      "--config=<Unicode>\n",
      "    Full path of a config file.\n",
      "    Default: ''\n",
      "    Equivalent to: [--JupyterApp.config_file]\n",
      "--to=<Unicode>\n",
      "    The export format to be used, either one of the built-in formats\n",
      "            ['asciidoc', 'custom', 'html', 'latex', 'markdown', 'notebook', 'pdf', 'python', 'qtpdf', 'qtpng', 'rst', 'script', 'slides', 'webpdf']\n",
      "            or a dotted object name that represents the import path for an\n",
      "            ``Exporter`` class\n",
      "    Default: ''\n",
      "    Equivalent to: [--NbConvertApp.export_format]\n",
      "--template=<Unicode>\n",
      "    Name of the template to use\n",
      "    Default: ''\n",
      "    Equivalent to: [--TemplateExporter.template_name]\n",
      "--template-file=<Unicode>\n",
      "    Name of the template file to use\n",
      "    Default: None\n",
      "    Equivalent to: [--TemplateExporter.template_file]\n",
      "--theme=<Unicode>\n",
      "    Template specific theme(e.g. the name of a JupyterLab CSS theme distributed\n",
      "    as prebuilt extension for the lab template)\n",
      "    Default: 'light'\n",
      "    Equivalent to: [--HTMLExporter.theme]\n",
      "--sanitize_html=<Bool>\n",
      "    Whether the HTML in Markdown cells and cell outputs should be sanitized.This\n",
      "    should be set to True by nbviewer or similar tools.\n",
      "    Default: False\n",
      "    Equivalent to: [--HTMLExporter.sanitize_html]\n",
      "--writer=<DottedObjectName>\n",
      "    Writer class used to write the\n",
      "                                        results of the conversion\n",
      "    Default: 'FilesWriter'\n",
      "    Equivalent to: [--NbConvertApp.writer_class]\n",
      "--post=<DottedOrNone>\n",
      "    PostProcessor class used to write the\n",
      "                                        results of the conversion\n",
      "    Default: ''\n",
      "    Equivalent to: [--NbConvertApp.postprocessor_class]\n",
      "--output=<Unicode>\n",
      "    Overwrite base name use for output files.\n",
      "                Supports pattern replacements '{notebook_name}'.\n",
      "    Default: '{notebook_name}'\n",
      "    Equivalent to: [--NbConvertApp.output_base]\n",
      "--output-dir=<Unicode>\n",
      "    Directory to write output(s) to. Defaults\n",
      "                                  to output to the directory of each notebook. To recover\n",
      "                                  previous default behaviour (outputting to the current\n",
      "                                  working directory) use . as the flag value.\n",
      "    Default: ''\n",
      "    Equivalent to: [--FilesWriter.build_directory]\n",
      "--reveal-prefix=<Unicode>\n",
      "    The URL prefix for reveal.js (version 3.x).\n",
      "            This defaults to the reveal CDN, but can be any url pointing to a copy\n",
      "            of reveal.js.\n",
      "            For speaker notes to work, this must be a relative path to a local\n",
      "            copy of reveal.js: e.g., \"reveal.js\".\n",
      "            If a relative path is given, it must be a subdirectory of the\n",
      "            current directory (from which the server is run).\n",
      "            See the usage documentation\n",
      "            (https://nbconvert.readthedocs.io/en/latest/usage.html#reveal-js-html-slideshow)\n",
      "            for more details.\n",
      "    Default: ''\n",
      "    Equivalent to: [--SlidesExporter.reveal_url_prefix]\n",
      "--nbformat=<Enum>\n",
      "    The nbformat version to write.\n",
      "            Use this to downgrade notebooks.\n",
      "    Choices: any of [1, 2, 3, 4]\n",
      "    Default: 4\n",
      "    Equivalent to: [--NotebookExporter.nbformat_version]\n",
      "\n",
      "Examples\n",
      "--------\n",
      "\n",
      "    The simplest way to use nbconvert is\n",
      "\n",
      "            > jupyter nbconvert mynotebook.ipynb --to html\n",
      "\n",
      "            Options include ['asciidoc', 'custom', 'html', 'latex', 'markdown', 'notebook', 'pdf', 'python', 'qtpdf', 'qtpng', 'rst', 'script', 'slides', 'webpdf'].\n",
      "\n",
      "            > jupyter nbconvert --to latex mynotebook.ipynb\n",
      "\n",
      "            Both HTML and LaTeX support multiple output templates. LaTeX includes\n",
      "            'base', 'article' and 'report'.  HTML includes 'basic', 'lab' and\n",
      "            'classic'. You can specify the flavor of the format used.\n",
      "\n",
      "            > jupyter nbconvert --to html --template lab mynotebook.ipynb\n",
      "\n",
      "            You can also pipe the output to stdout, rather than a file\n",
      "\n",
      "            > jupyter nbconvert mynotebook.ipynb --stdout\n",
      "\n",
      "            PDF is generated via latex\n",
      "\n",
      "            > jupyter nbconvert mynotebook.ipynb --to pdf\n",
      "\n",
      "            You can get (and serve) a Reveal.js-powered slideshow\n",
      "\n",
      "            > jupyter nbconvert myslides.ipynb --to slides --post serve\n",
      "\n",
      "            Multiple notebooks can be given at the command line in a couple of\n",
      "            different ways:\n",
      "\n",
      "            > jupyter nbconvert notebook*.ipynb\n",
      "            > jupyter nbconvert notebook1.ipynb notebook2.ipynb\n",
      "\n",
      "            or you can specify the notebooks list in a config file, containing::\n",
      "\n",
      "                c.NbConvertApp.notebooks = [\"my_notebook.ipynb\"]\n",
      "\n",
      "            > jupyter nbconvert --config mycfg.py\n",
      "\n",
      "To see all available configurables, use `--help-all`.\n",
      "\n"
     ]
    }
   ],
   "source": [
    "!jupyter nbconvert --ClearMetadataPreprocessor.enabled=True --to notebook --inplace /content/*.ipynb"
   ]
  },
  {
   "cell_type": "code",
   "execution_count": null,
   "metadata": {},
   "outputs": [],
   "source": []
  }
 ],
 "metadata": {
  "language_info": {
   "name": "python"
  }
 },
 "nbformat": 4,
 "nbformat_minor": 0
}
