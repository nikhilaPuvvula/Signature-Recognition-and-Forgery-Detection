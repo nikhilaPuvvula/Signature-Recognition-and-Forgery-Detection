{
  "cells": [
    {
      "cell_type": "markdown",
      "source": [
        "# **CNN Model**"
      ],
      "metadata": {
        "id": "4NsEktmTzULz"
      }
    },
    {
      "cell_type": "markdown",
      "metadata": {
        "id": "7A_fmzqRFq49"
      },
      "source": [
        "Step-1 Loading Dataset from zip file"
      ]
    },
    {
      "cell_type": "code",
      "execution_count": 4,
      "metadata": {
        "colab": {
          "base_uri": "https://localhost:8080/"
        },
        "id": "al9hHGOEFpDM",
        "outputId": "f03cbe08-f888-4e6a-f955-63250087ddf1"
      },
      "outputs": [
        {
          "output_type": "stream",
          "name": "stdout",
          "text": [
            "Extracted successfully to: /content/signs_dataset\n"
          ]
        }
      ],
      "source": [
        "import zipfile\n",
        "import os\n",
        "\n",
        "zip_path = \"/content/drive/MyDrive/signatures.zip\"\n",
        "extract_to = \"/content/signs_dataset\"\n",
        "\n",
        "# Extract only if not already done\n",
        "if not os.path.exists(extract_to):\n",
        "    with zipfile.ZipFile(zip_path, 'r') as zip_ref:\n",
        "        zip_ref.extractall(extract_to)\n",
        "\n",
        "print(\"Extracted successfully to:\", extract_to)"
      ]
    },
    {
      "cell_type": "code",
      "execution_count": 4,
      "metadata": {
        "id": "estsAsOCK6dw"
      },
      "outputs": [],
      "source": []
    },
    {
      "cell_type": "markdown",
      "metadata": {
        "id": "fh0WJofyKulC"
      },
      "source": [
        "Step-2 Implementiing Preprocessing techniques for CNN model"
      ]
    },
    {
      "cell_type": "markdown",
      "metadata": {
        "id": "6ddXibXou4J4"
      },
      "source": [
        "i)Remove Lines"
      ]
    },
    {
      "cell_type": "code",
      "execution_count": 5,
      "metadata": {
        "id": "pNzsVq07xMQG"
      },
      "outputs": [],
      "source": [
        "import cv2\n",
        "import numpy as np\n",
        "from google.colab.patches import cv2_imshow\n",
        "\n",
        "def remove_borders(img):\n",
        "\n",
        "  #gray = cv2.cvtColor(img, cv2.COLOR_BGR2GRAY)\n",
        "\n",
        "  # Threshold\n",
        "  thresh = cv2.threshold(img, 0, 255, cv2.THRESH_BINARY_INV + cv2.THRESH_OTSU)[1]\n",
        "\n",
        "  # Detect horizontal lines\n",
        "  horizontal_kernel = cv2.getStructuringElement(cv2.MORPH_RECT, (40, 1))\n",
        "  detect_horizontal = cv2.morphologyEx(thresh, cv2.MORPH_OPEN, horizontal_kernel, iterations=2)\n",
        "\n",
        "  # Detect vertical lines\n",
        "  vertical_kernel = cv2.getStructuringElement(cv2.MORPH_RECT, (1, 40))\n",
        "  detect_vertical = cv2.morphologyEx(thresh, cv2.MORPH_OPEN, vertical_kernel, iterations=2)\n",
        "\n",
        "  # Combine line masks\n",
        "  lines = cv2.add(detect_horizontal, detect_vertical)\n",
        "\n",
        "  # Inpaint to remove lines\n",
        "  result = cv2.inpaint(img, lines, 3, cv2.INPAINT_TELEA)\n",
        "\n",
        "  # Save output\n",
        "  cv2.imwrite(\"output_no_lines.png\", result)\n",
        "\n",
        "  return result"
      ]
    },
    {
      "cell_type": "markdown",
      "metadata": {
        "id": "Uyuw4i5MLdJO"
      },
      "source": [
        "ii)  Binarization and Noise Removal"
      ]
    },
    {
      "cell_type": "code",
      "execution_count": 6,
      "metadata": {
        "id": "LRBo9x2GLZ31"
      },
      "outputs": [],
      "source": [
        "import numpy as np\n",
        "import cv2\n",
        "\n",
        "def binarize_and_denoise(image):\n",
        "    # Apply a Gaussian blur to remove noise\n",
        "    denoised_image = cv2.GaussianBlur(image, (5, 5), 0)\n",
        "\n",
        "    # Use Otsu's thresholding to binarize the image\n",
        "    _, binarized_image = cv2.threshold(denoised_image, 0, 255, cv2.THRESH_BINARY + cv2.THRESH_OTSU)\n",
        "\n",
        "    # Invert the image if needed (to have the signature in white on a black background)\n",
        "    # The paper's feature extraction might work better with this format\n",
        "    inverted_image = cv2.bitwise_not(binarized_image)\n",
        "\n",
        "    return inverted_image"
      ]
    },
    {
      "cell_type": "markdown",
      "metadata": {
        "id": "YGgc5N418aHA"
      },
      "source": [
        "iii) Scaling"
      ]
    },
    {
      "cell_type": "code",
      "execution_count": 7,
      "metadata": {
        "id": "k0VcTBuR8cDr"
      },
      "outputs": [],
      "source": [
        "def scale_signature(image):\n",
        "    \"\"\"\n",
        "    Scale down signature if it occupies more than 80% of the image width.\n",
        "    After scaling, center it on a canvas of original size to avoid cropping.\n",
        "    \"\"\"\n",
        "    contours, _ = cv2.findContours(image.copy(), cv2.RETR_EXTERNAL, cv2.CHAIN_APPROX_SIMPLE)\n",
        "    if not contours:\n",
        "        return image\n",
        "\n",
        "    largest_contour = max(contours, key=cv2.contourArea)\n",
        "    x, y, w, h = cv2.boundingRect(largest_contour)\n",
        "\n",
        "    if w > image.shape[1] * 0.6 or h > image.shape[0] * 0.6:\n",
        "        scale_factor = 1 / math.sqrt(2)\n",
        "        scaled_w = int(image.shape[1] * scale_factor)\n",
        "        scaled_h = int(image.shape[0] * scale_factor)\n",
        "\n",
        "        # Resize the image\n",
        "        scaled = cv2.resize(image, (scaled_w, scaled_h), interpolation=cv2.INTER_AREA)\n",
        "\n",
        "        # Create a blank canvas of original size\n",
        "        canvas = np.zeros_like(image) * 255\n",
        "\n",
        "        # Compute top-left corner to center the scaled image\n",
        "        start_x = (canvas.shape[1] - scaled_w) // 2\n",
        "        start_y = (canvas.shape[0] - scaled_h) // 2\n",
        "\n",
        "        # Place the scaled image onto the canvas\n",
        "        canvas[start_y:start_y+scaled_h, start_x:start_x+scaled_w] = scaled\n",
        "        return canvas\n",
        "\n",
        "    return image"
      ]
    },
    {
      "cell_type": "markdown",
      "metadata": {
        "id": "7ClvmSj48psf"
      },
      "source": [
        "iv) Centralization"
      ]
    },
    {
      "cell_type": "code",
      "execution_count": 8,
      "metadata": {
        "id": "ue5SO0Z_8rrP"
      },
      "outputs": [],
      "source": [
        "import cv2\n",
        "import numpy as np\n",
        "\n",
        "def center_signature(image):\n",
        "    # Find contours\n",
        "    contours, _ = cv2.findContours(image.copy(), cv2.RETR_EXTERNAL, cv2.CHAIN_APPROX_SIMPLE)\n",
        "    if not contours:\n",
        "        return image\n",
        "\n",
        "    # Sort contours by area (largest first)\n",
        "    contours = sorted(contours, key=cv2.contourArea, reverse=True)\n",
        "\n",
        "    # Take top 3 largest contours\n",
        "    top_contours = contours[:2]\n",
        "\n",
        "    # Combine them into one mask\n",
        "    mask = np.zeros_like(image)\n",
        "    cv2.drawContours(mask, top_contours, -1, (255), thickness=cv2.FILLED)\n",
        "\n",
        "    # Get bounding box of combined contours\n",
        "    x, y, w, h = cv2.boundingRect(mask)\n",
        "\n",
        "    # Create new blank canvas\n",
        "    canvas = np.zeros_like(image) * 255\n",
        "\n",
        "    # Center coordinates\n",
        "    center_x = image.shape[1] // 2\n",
        "    center_y = image.shape[0] // 2\n",
        "\n",
        "    # Calculate new top-left corner for centering\n",
        "    new_x = center_x - w // 2\n",
        "    new_y = center_y - h // 2\n",
        "\n",
        "    # Place the combined contour area on the centered canvas\n",
        "    canvas[new_y:new_y+h, new_x:new_x+w] = image[y:y+h, x:x+w]\n",
        "\n",
        "    return canvas"
      ]
    },
    {
      "cell_type": "markdown",
      "metadata": {
        "id": "pGUOu0aW8vJp"
      },
      "source": [
        "v) Rotation"
      ]
    },
    {
      "cell_type": "code",
      "execution_count": 9,
      "metadata": {
        "id": "p_QRNknh8xr_"
      },
      "outputs": [],
      "source": [
        "import cv2\n",
        "import numpy as np\n",
        "\n",
        "def rotate_signature(image, angle_threshold=5):\n",
        "    \"\"\"\n",
        "    Rotate signatures to horizontal without flipping upside down.\n",
        "    Works for both tilted and vertical cases.\n",
        "    \"\"\"\n",
        "    contours, _ = cv2.findContours(image.copy(), cv2.RETR_EXTERNAL, cv2.CHAIN_APPROX_SIMPLE)\n",
        "    if not contours:\n",
        "        return image\n",
        "\n",
        "    # Filter out very thin/long contours\n",
        "    contours = [c for c in contours if cv2.boundingRect(c)[2] > 5 and cv2.boundingRect(c)[3] > 5]\n",
        "    if not contours:\n",
        "        return image\n",
        "\n",
        "    # Get largest contour\n",
        "    largest_contour = max(contours, key=cv2.contourArea)\n",
        "    pts = largest_contour.reshape(-1, 2).astype(np.float32)\n",
        "\n",
        "    # PCA to find main orientation\n",
        "    mean, eigenvectors = cv2.PCACompute(pts, mean=None)[:2]\n",
        "    angle = np.degrees(np.arctan2(eigenvectors[0,1], eigenvectors[0,0]))\n",
        "\n",
        "    # Skip tiny rotations\n",
        "    if abs(angle) < angle_threshold:\n",
        "        return image\n",
        "\n",
        "    # Normalize angle to (-90, 90)\n",
        "    if angle < -90:\n",
        "        angle += 180\n",
        "    elif angle > 90:\n",
        "        angle -= 180\n",
        "\n",
        "    # Rotate image\n",
        "    (h, w) = image.shape[:2]\n",
        "    center = (w // 2, h // 2)\n",
        "    M = cv2.getRotationMatrix2D(center, angle, 1.0)\n",
        "    rotated = cv2.warpAffine(image, M, (w, h), flags=cv2.INTER_LINEAR, borderValue=0)\n",
        "\n",
        "    return rotated\n"
      ]
    },
    {
      "cell_type": "code",
      "execution_count": 10,
      "metadata": {
        "colab": {
          "base_uri": "https://localhost:8080/",
          "height": 113
        },
        "id": "XHSt_Q_qfplc",
        "outputId": "1800fe7b-34e6-461e-ba99-850b004efd05"
      },
      "outputs": [
        {
          "output_type": "display_data",
          "data": {
            "text/plain": [
              "<Figure size 1000x400 with 6 Axes>"
            ],
            "image/png": "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\n"
          },
          "metadata": {}
        }
      ],
      "source": [
        "import cv2\n",
        "import math\n",
        "import matplotlib.pyplot as plt\n",
        "\n",
        "# Load image\n",
        "img_path = \"/content/signs_dataset/signatures/029/09201092.png\"\n",
        "img = cv2.imread(img_path, cv2.IMREAD_GRAYSCALE)\n",
        "\n",
        "# Process steps\n",
        "border_removed = remove_borders(img)\n",
        "binarized_img = binarize_and_denoise(border_removed)\n",
        "scaled_img = scale_signature(binarized_img)\n",
        "centered_img = center_signature(scaled_img)\n",
        "rotated_img = rotate_signature(centered_img)\n",
        "\n",
        "# List of images and titles\n",
        "images = [img,border_removed, binarized_img,scaled_img, centered_img, rotated_img]\n",
        "titles = [\"Original\", \"No Border\", \"Binarized\",\"Scaled\", \"Centered\", \"Rotated\"]\n",
        "\n",
        "# Plot in horizontal line\n",
        "plt.figure(figsize=(10, 4))\n",
        "for i, (image, title) in enumerate(zip(images, titles)):\n",
        "    plt.subplot(1, len(images), i+1)\n",
        "    plt.imshow(image, cmap='gray')\n",
        "    plt.title(title, fontsize=10)\n",
        "    plt.axis(\"off\")\n",
        "plt.tight_layout()\n",
        "plt.show()\n"
      ]
    },
    {
      "cell_type": "markdown",
      "metadata": {
        "id": "ZzJcwYHyAhmI"
      },
      "source": [
        "Step - 3 Aligning all preprocessing steps"
      ]
    },
    {
      "cell_type": "code",
      "execution_count": 11,
      "metadata": {
        "id": "cU60oVt8AhTJ"
      },
      "outputs": [],
      "source": [
        "import cv2\n",
        "import numpy as np\n",
        "\n",
        "def preprocess_pipeline(image_path, target_size=(100, 100)):\n",
        "    # Load image in grayscale\n",
        "    image = cv2.imread(image_path, cv2.IMREAD_GRAYSCALE)\n",
        "    if image is None: return np.zeros(target_size, dtype=np.uint8)\n",
        "\n",
        "    # Apply preprocessing steps\n",
        "    image = remove_borders(image)\n",
        "    image = binarize_and_denoise(image)\n",
        "    image = scale_signature(image)\n",
        "    image = center_signature(image)\n",
        "    image = rotate_signature(image)\n",
        "\n",
        "    # Final binarization and inversion (as a safety measure)\n",
        "    #_, binary_final = cv2.threshold(image, 128, 255, cv2.THRESH_BINARY_INV)\n",
        "\n",
        "    # Resize to target size after all other preprocessing\n",
        "    final_image = cv2.resize(image, target_size, interpolation=cv2.INTER_AREA)\n",
        "\n",
        "\n",
        "    return final_image"
      ]
    },
    {
      "cell_type": "markdown",
      "metadata": {
        "id": "HwqxDUJNBNXM"
      },
      "source": [
        "Step-4 Creating Dataset Class"
      ]
    },
    {
      "cell_type": "code",
      "execution_count": 12,
      "metadata": {
        "id": "KSM4wSV9BYKP"
      },
      "outputs": [],
      "source": [
        "import torch\n",
        "from torch.utils.data import Dataset\n",
        "import cv2\n",
        "import numpy as np\n",
        "import os\n",
        "import glob"
      ]
    },
    {
      "cell_type": "code",
      "execution_count": 13,
      "metadata": {
        "id": "M06JyEBCBE4C"
      },
      "outputs": [],
      "source": [
        "import torch\n",
        "from torch.utils.data import Dataset\n",
        "import cv2\n",
        "import numpy as np\n",
        "\n",
        "# Make sure all your preprocessing functions (preprocess_pipeline, remove_noise, etc.)\n",
        "# are defined and available in your notebook environment.\n",
        "\n",
        "class SignatureDataset(Dataset):\n",
        "    def __init__(self, image_paths, signer_ids, is_genuine_labels):\n",
        "        self.image_paths = image_paths\n",
        "        self.signer_ids = signer_ids\n",
        "        self.is_genuine_labels = is_genuine_labels\n",
        "\n",
        "        # Create a mapping for signer IDs to integer indices\n",
        "        unique_signer_ids = sorted(list(set(signer_ids)))\n",
        "        self.signer_id_map = {name: i for i, name in enumerate(unique_signer_ids)}\n",
        "\n",
        "    def __len__(self):\n",
        "        return len(self.image_paths)\n",
        "\n",
        "    def __getitem__(self, idx):\n",
        "        img_path = self.image_paths[idx]\n",
        "\n",
        "        # Load image and apply the full preprocessing pipeline\n",
        "        # (This assumes preprocess_pipeline is a single function that\n",
        "        # orchestrates your other preprocessing functions)\n",
        "        image = preprocess_pipeline(img_path)\n",
        "\n",
        "        # Convert to float, normalize, and add a channel dimension\n",
        "        image = image.astype(np.float32) / 255.0\n",
        "        image = np.expand_dims(image, axis=0) # PyTorch expects [C, H, W]\n",
        "\n",
        "        # Convert to a PyTorch tensor\n",
        "        image_tensor = torch.from_numpy(image)\n",
        "\n",
        "        # Get labels and convert to PyTorch tensors\n",
        "        signer_id_label = self.signer_id_map[self.signer_ids[idx]]\n",
        "        signer_id_tensor = torch.tensor(signer_id_label, dtype=torch.long)\n",
        "\n",
        "        genuine_label = self.is_genuine_labels[idx]\n",
        "        genuine_tensor = torch.tensor(genuine_label, dtype=torch.long)\n",
        "\n",
        "        # Return the preprocessed image and both labels\n",
        "        return image_tensor, signer_id_tensor, genuine_tensor"
      ]
    },
    {
      "cell_type": "code",
      "execution_count": 13,
      "metadata": {
        "id": "MBce7EI0Dr5v"
      },
      "outputs": [],
      "source": []
    },
    {
      "cell_type": "markdown",
      "metadata": {
        "id": "JR3iT7b4DsrE"
      },
      "source": [
        "Step-5 Loading the dataset"
      ]
    },
    {
      "cell_type": "code",
      "execution_count": 14,
      "metadata": {
        "id": "Mxvw3ofeHXzG"
      },
      "outputs": [],
      "source": [
        "from torch.utils.data import DataLoader\n",
        "from sklearn.model_selection import train_test_split\n",
        "import glob\n",
        "import os\n",
        "import numpy as np\n",
        "import cv2\n",
        "import math"
      ]
    },
    {
      "cell_type": "code",
      "execution_count": 15,
      "metadata": {
        "colab": {
          "base_uri": "https://localhost:8080/"
        },
        "id": "sc_G6BJSDrZb",
        "outputId": "6439868c-f9f5-4bf8-d803-572d118988e3"
      },
      "outputs": [
        {
          "output_type": "stream",
          "name": "stdout",
          "text": [
            "Data loading is complete.\n",
            "Number of training batches: 10\n"
          ]
        }
      ],
      "source": [
        "\n",
        "# Base directory where your data is extracted\n",
        "base_dir = \"/content/signs_dataset\"\n",
        "data_dir = os.path.join(base_dir, \"signatures\")\n",
        "\n",
        "# Lists to store image paths, signer IDs, and forgery labels\n",
        "image_paths = []\n",
        "signer_ids = []\n",
        "is_genuine = []\n",
        "\n",
        "for folder_name in os.listdir(data_dir):\n",
        "    folder_path = os.path.join(data_dir, folder_name)\n",
        "    if os.path.isdir(folder_path):\n",
        "        # Determine the signer ID and genuine flag from the folder name\n",
        "        if \"_forg\" in folder_name:\n",
        "            signer_id = folder_name.replace(\"_forg\", \"\")\n",
        "            genuine_flag = 0  # 0 for forged\n",
        "        else:\n",
        "            signer_id = folder_name\n",
        "            genuine_flag = 1  # 1 for genuine\n",
        "\n",
        "        for file_name in os.listdir(folder_path):\n",
        "            if file_name.endswith(('.png', '.jpg', '.jpeg', '.PNG')):\n",
        "                image_paths.append(os.path.join(folder_path, file_name))\n",
        "                signer_ids.append(signer_id)\n",
        "                is_genuine.append(genuine_flag)\n",
        "\n",
        "\n",
        "train_dataset = SignatureDataset(image_paths, signer_ids, is_genuine)\n",
        "\n",
        "# Create DataLoader objects\n",
        "batch_size = 32\n",
        "train_loader = DataLoader(train_dataset, batch_size=batch_size, shuffle=True)\n",
        "\n",
        "print(f\"Data loading is complete.\")\n",
        "print(f\"Number of training batches: {len(train_loader)}\")"
      ]
    },
    {
      "cell_type": "markdown",
      "metadata": {
        "id": "bGFRlDS1InRg"
      },
      "source": [
        "Display"
      ]
    },
    {
      "cell_type": "code",
      "source": [
        "import matplotlib.pyplot as plt\n",
        "\n",
        "random_index = np.random.randint(0, len(image_paths))\n",
        "random_image_path = image_paths[random_index]\n",
        "\n",
        "# 1. Load the original image\n",
        "original_image = cv2.imread(random_image_path, cv2.IMREAD_GRAYSCALE)\n",
        "\n",
        "# 2. Apply the preprocessing pipeline\n",
        "preprocessed_image = preprocess_pipeline(random_image_path)\n",
        "\n",
        "# Display the images\n",
        "fig, axes = plt.subplots(1, 2, figsize=(6, 5))\n",
        "\n",
        "# Original Image\n",
        "axes[0].imshow(original_image, cmap='gray')\n",
        "axes[0].set_title('Original Image')\n",
        "\n",
        "axes[0].axis('off') # Hide the axes\n",
        "\n",
        "# Preprocessed Image\n",
        "axes[1].imshow(preprocessed_image, cmap='gray')\n",
        "axes[1].set_title('Preprocessed Image')\n",
        "axes[1].axis('off') # Hide the axes\n",
        "\n",
        "plt.tight_layout()\n",
        "plt.show()"
      ],
      "metadata": {
        "colab": {
          "base_uri": "https://localhost:8080/",
          "height": 336
        },
        "id": "5mTzJ_i5qFT8",
        "outputId": "ad3bec11-cb88-419e-e5cb-f1d8c2229172"
      },
      "execution_count": 16,
      "outputs": [
        {
          "output_type": "display_data",
          "data": {
            "text/plain": [
              "<Figure size 600x500 with 2 Axes>"
            ],
            "image/png": "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\n"
          },
          "metadata": {}
        }
      ]
    },
    {
      "cell_type": "code",
      "execution_count": 17,
      "metadata": {
        "colab": {
          "base_uri": "https://localhost:8080/",
          "height": 153
        },
        "id": "LeomrlQdyngR",
        "outputId": "536ba6a2-e7cf-44f7-c253-f45207149f1c"
      },
      "outputs": [
        {
          "output_type": "display_data",
          "data": {
            "text/plain": [
              "<Figure size 1800x600 with 6 Axes>"
            ],
            "image/png": "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\n"
          },
          "metadata": {}
        }
      ],
      "source": [
        "import cv2\n",
        "import matplotlib.pyplot as plt\n",
        "\n",
        "# Load image\n",
        "img_path = image_paths[random_index]\n",
        "img = cv2.imread(img_path, cv2.IMREAD_GRAYSCALE)\n",
        "\n",
        "# Process steps\n",
        "border_removed = remove_borders(img)\n",
        "binarized_img = binarize_and_denoise(border_removed)\n",
        "scaled_img = scale_signature(binarized_img)\n",
        "centered_img = center_signature(scaled_img)\n",
        "rotated_img = rotate_signature(centered_img)\n",
        "\n",
        "# List of images and titles\n",
        "images = [img,border_removed, binarized_img,scaled_img, centered_img, rotated_img]\n",
        "titles = [\"Original\", \"No Border\", \"Binarized\",\"Scaled\", \"Centered\", \"Rotated\"]\n",
        "\n",
        "# Plot in horizontal line\n",
        "plt.figure(figsize=(18, 6))\n",
        "for i, (image, title) in enumerate(zip(images, titles)):\n",
        "    plt.subplot(1, len(images), i+1)\n",
        "    plt.imshow(image, cmap='gray')\n",
        "    plt.title(title, fontsize=10)\n",
        "    plt.axis(\"off\")\n",
        "plt.tight_layout()\n",
        "plt.show()\n"
      ]
    },
    {
      "cell_type": "code",
      "execution_count": 17,
      "metadata": {
        "id": "pVT8xvmql5-x"
      },
      "outputs": [],
      "source": []
    },
    {
      "cell_type": "markdown",
      "metadata": {
        "id": "U1ps2xddJF7b"
      },
      "source": [
        "Step-6 : Creating a CNN Model"
      ]
    },
    {
      "cell_type": "code",
      "execution_count": 18,
      "metadata": {
        "id": "NGuqtThDK4f5"
      },
      "outputs": [],
      "source": [
        "import torch\n",
        "import torch.nn as nn\n",
        "import torchvision.models as models\n",
        "\n",
        "class SignatureResNet(nn.Module):\n",
        "    def __init__(self, num_classes):\n",
        "        super(SignatureResNet, self).__init__()\n",
        "\n",
        "        # Load pretrained ResNet18\n",
        "        self.base_model = models.resnet18(pretrained=True)\n",
        "\n",
        "        # Modify first conv layer to accept 1-channel grayscale input\n",
        "        self.base_model.conv1 = nn.Conv2d(1, 64, kernel_size=7, stride=2, padding=3, bias=False)\n",
        "\n",
        "        # Replace final fully connected layer with custom classifier\n",
        "        self.base_model.fc = nn.Sequential(\n",
        "            nn.Linear(self.base_model.fc.in_features, 256),\n",
        "            nn.ReLU(),\n",
        "            nn.Dropout(0.5),\n",
        "            nn.Linear(256, num_classes)\n",
        "        )\n",
        "\n",
        "    def forward(self, x):\n",
        "        return self.base_model(x)"
      ]
    },
    {
      "cell_type": "code",
      "source": [],
      "metadata": {
        "id": "SRYssClc5byV"
      },
      "execution_count": 18,
      "outputs": []
    },
    {
      "cell_type": "markdown",
      "metadata": {
        "id": "IBOd1voHK1Zn"
      },
      "source": [
        "Step-7 Training the Model"
      ]
    },
    {
      "cell_type": "code",
      "execution_count": 19,
      "metadata": {
        "id": "VyKPqko9LZWd",
        "colab": {
          "base_uri": "https://localhost:8080/"
        },
        "outputId": "7277c0d4-1fc6-40d0-c1e1-6151e7f05837"
      },
      "outputs": [
        {
          "output_type": "stream",
          "name": "stderr",
          "text": [
            "/usr/local/lib/python3.11/dist-packages/torchvision/models/_utils.py:208: UserWarning: The parameter 'pretrained' is deprecated since 0.13 and may be removed in the future, please use 'weights' instead.\n",
            "  warnings.warn(\n",
            "/usr/local/lib/python3.11/dist-packages/torchvision/models/_utils.py:223: UserWarning: Arguments other than a weight enum or `None` for 'weights' are deprecated since 0.13 and may be removed in the future. The current behavior is equivalent to passing `weights=ResNet18_Weights.IMAGENET1K_V1`. You can also use `weights=ResNet18_Weights.DEFAULT` to get the most up-to-date weights.\n",
            "  warnings.warn(msg)\n",
            "Downloading: \"https://download.pytorch.org/models/resnet18-f37072fd.pth\" to /root/.cache/torch/hub/checkpoints/resnet18-f37072fd.pth\n",
            "100%|██████████| 44.7M/44.7M [00:00<00:00, 204MB/s]\n"
          ]
        },
        {
          "output_type": "stream",
          "name": "stdout",
          "text": [
            "Epoch [1/100] Train Loss: 4.6444 | Train Acc: 0.0433\n",
            "Best model saved at epoch 1 with acc: 0.0433\n",
            "Epoch [2/100] Train Loss: 3.9122 | Train Acc: 0.0600\n",
            "Best model saved at epoch 2 with acc: 0.0600\n",
            "Epoch [3/100] Train Loss: 4.2791 | Train Acc: 0.0667\n",
            "Best model saved at epoch 3 with acc: 0.0667\n",
            "Epoch [4/100] Train Loss: 3.8984 | Train Acc: 0.0400\n",
            "No improvement for 1 epoch(s)\n",
            "Epoch [5/100] Train Loss: 3.7646 | Train Acc: 0.0467\n",
            "No improvement for 2 epoch(s)\n",
            "Epoch [6/100] Train Loss: 3.5700 | Train Acc: 0.0600\n",
            "No improvement for 3 epoch(s)\n",
            "Epoch [7/100] Train Loss: 3.3832 | Train Acc: 0.0900\n",
            "Best model saved at epoch 7 with acc: 0.0900\n",
            "Epoch [8/100] Train Loss: 3.5838 | Train Acc: 0.0733\n",
            "No improvement for 1 epoch(s)\n",
            "Epoch [9/100] Train Loss: 3.2240 | Train Acc: 0.0800\n",
            "No improvement for 2 epoch(s)\n",
            "Epoch [10/100] Train Loss: 3.1917 | Train Acc: 0.0900\n",
            "No improvement for 3 epoch(s)\n",
            "Epoch [11/100] Train Loss: 3.0960 | Train Acc: 0.1033\n",
            "Best model saved at epoch 11 with acc: 0.1033\n",
            "Epoch [12/100] Train Loss: 3.0641 | Train Acc: 0.0733\n",
            "No improvement for 1 epoch(s)\n",
            "Epoch [13/100] Train Loss: 3.0557 | Train Acc: 0.0933\n",
            "No improvement for 2 epoch(s)\n",
            "Epoch [14/100] Train Loss: 3.0218 | Train Acc: 0.0900\n",
            "No improvement for 3 epoch(s)\n",
            "Epoch [15/100] Train Loss: 2.8929 | Train Acc: 0.1500\n",
            "Best model saved at epoch 15 with acc: 0.1500\n",
            "Epoch [16/100] Train Loss: 2.8644 | Train Acc: 0.1300\n",
            "No improvement for 1 epoch(s)\n",
            "Epoch [17/100] Train Loss: 2.9180 | Train Acc: 0.1267\n",
            "No improvement for 2 epoch(s)\n",
            "Epoch [18/100] Train Loss: 2.8021 | Train Acc: 0.1533\n",
            "Best model saved at epoch 18 with acc: 0.1533\n",
            "Epoch [19/100] Train Loss: 2.5904 | Train Acc: 0.1967\n",
            "Best model saved at epoch 19 with acc: 0.1967\n",
            "Epoch [20/100] Train Loss: 2.5590 | Train Acc: 0.2033\n",
            "Best model saved at epoch 20 with acc: 0.2033\n",
            "Epoch [21/100] Train Loss: 2.5012 | Train Acc: 0.2167\n",
            "Best model saved at epoch 21 with acc: 0.2167\n",
            "Epoch [22/100] Train Loss: 2.4605 | Train Acc: 0.2333\n",
            "Best model saved at epoch 22 with acc: 0.2333\n",
            "Epoch [23/100] Train Loss: 2.3336 | Train Acc: 0.2867\n",
            "Best model saved at epoch 23 with acc: 0.2867\n",
            "Epoch [24/100] Train Loss: 2.4203 | Train Acc: 0.2533\n",
            "No improvement for 1 epoch(s)\n",
            "Epoch [25/100] Train Loss: 2.2253 | Train Acc: 0.2667\n",
            "No improvement for 2 epoch(s)\n",
            "Epoch [26/100] Train Loss: 2.0085 | Train Acc: 0.3433\n",
            "Best model saved at epoch 26 with acc: 0.3433\n",
            "Epoch [27/100] Train Loss: 1.8920 | Train Acc: 0.3833\n",
            "Best model saved at epoch 27 with acc: 0.3833\n",
            "Epoch [28/100] Train Loss: 1.8677 | Train Acc: 0.3867\n",
            "Best model saved at epoch 28 with acc: 0.3867\n",
            "Epoch [29/100] Train Loss: 1.6780 | Train Acc: 0.4767\n",
            "Best model saved at epoch 29 with acc: 0.4767\n",
            "Epoch [30/100] Train Loss: 1.6113 | Train Acc: 0.5000\n",
            "Best model saved at epoch 30 with acc: 0.5000\n",
            "Epoch [31/100] Train Loss: 1.4456 | Train Acc: 0.5433\n",
            "Best model saved at epoch 31 with acc: 0.5433\n",
            "Epoch [32/100] Train Loss: 1.4289 | Train Acc: 0.5733\n",
            "Best model saved at epoch 32 with acc: 0.5733\n",
            "Epoch [33/100] Train Loss: 1.2515 | Train Acc: 0.6067\n",
            "Best model saved at epoch 33 with acc: 0.6067\n",
            "Epoch [34/100] Train Loss: 1.2143 | Train Acc: 0.5900\n",
            "No improvement for 1 epoch(s)\n",
            "Epoch [35/100] Train Loss: 1.0075 | Train Acc: 0.6667\n",
            "Best model saved at epoch 35 with acc: 0.6667\n",
            "Epoch [36/100] Train Loss: 0.9905 | Train Acc: 0.6533\n",
            "No improvement for 1 epoch(s)\n",
            "Epoch [37/100] Train Loss: 0.8536 | Train Acc: 0.7200\n",
            "Best model saved at epoch 37 with acc: 0.7200\n",
            "Epoch [38/100] Train Loss: 0.7304 | Train Acc: 0.7533\n",
            "Best model saved at epoch 38 with acc: 0.7533\n",
            "Epoch [39/100] Train Loss: 0.7146 | Train Acc: 0.7967\n",
            "Best model saved at epoch 39 with acc: 0.7967\n",
            "Epoch [40/100] Train Loss: 0.6730 | Train Acc: 0.8000\n",
            "Best model saved at epoch 40 with acc: 0.8000\n",
            "Epoch [41/100] Train Loss: 0.7548 | Train Acc: 0.7700\n",
            "No improvement for 1 epoch(s)\n",
            "Epoch [42/100] Train Loss: 0.6691 | Train Acc: 0.8100\n",
            "Best model saved at epoch 42 with acc: 0.8100\n",
            "Epoch [43/100] Train Loss: 0.4953 | Train Acc: 0.8333\n",
            "Best model saved at epoch 43 with acc: 0.8333\n",
            "Epoch [44/100] Train Loss: 0.3875 | Train Acc: 0.8800\n",
            "Best model saved at epoch 44 with acc: 0.8800\n",
            "Epoch [45/100] Train Loss: 0.3529 | Train Acc: 0.8700\n",
            "No improvement for 1 epoch(s)\n",
            "Epoch [46/100] Train Loss: 0.3558 | Train Acc: 0.8667\n",
            "No improvement for 2 epoch(s)\n",
            "Epoch [47/100] Train Loss: 0.2528 | Train Acc: 0.9100\n",
            "Best model saved at epoch 47 with acc: 0.9100\n",
            "Epoch [48/100] Train Loss: 0.2353 | Train Acc: 0.9000\n",
            "No improvement for 1 epoch(s)\n",
            "Epoch [49/100] Train Loss: 0.2775 | Train Acc: 0.9067\n",
            "No improvement for 2 epoch(s)\n",
            "Epoch [50/100] Train Loss: 0.3186 | Train Acc: 0.8967\n",
            "No improvement for 3 epoch(s)\n",
            "Epoch [51/100] Train Loss: 0.2548 | Train Acc: 0.9267\n",
            "Best model saved at epoch 51 with acc: 0.9267\n",
            "Epoch [52/100] Train Loss: 0.1858 | Train Acc: 0.9367\n",
            "Best model saved at epoch 52 with acc: 0.9367\n",
            "Epoch [53/100] Train Loss: 0.1730 | Train Acc: 0.9300\n",
            "No improvement for 1 epoch(s)\n",
            "Epoch [54/100] Train Loss: 0.1244 | Train Acc: 0.9500\n",
            "Best model saved at epoch 54 with acc: 0.9500\n",
            "Epoch [55/100] Train Loss: 0.1731 | Train Acc: 0.9333\n",
            "No improvement for 1 epoch(s)\n",
            "Epoch [56/100] Train Loss: 0.2011 | Train Acc: 0.9167\n",
            "No improvement for 2 epoch(s)\n",
            "Epoch [57/100] Train Loss: 0.2102 | Train Acc: 0.9200\n",
            "No improvement for 3 epoch(s)\n",
            "Epoch [58/100] Train Loss: 0.2110 | Train Acc: 0.9200\n",
            "No improvement for 4 epoch(s)\n",
            "Epoch [59/100] Train Loss: 0.2037 | Train Acc: 0.9200\n",
            "No improvement for 5 epoch(s)\n",
            "Epoch [60/100] Train Loss: 0.2843 | Train Acc: 0.8867\n",
            "No improvement for 6 epoch(s)\n",
            "Epoch [61/100] Train Loss: 0.2685 | Train Acc: 0.9067\n",
            "No improvement for 7 epoch(s)\n",
            "Epoch [62/100] Train Loss: 0.2711 | Train Acc: 0.9100\n",
            "No improvement for 8 epoch(s)\n",
            "Epoch [63/100] Train Loss: 0.2561 | Train Acc: 0.9400\n",
            "No improvement for 9 epoch(s)\n",
            "Epoch [64/100] Train Loss: 0.1925 | Train Acc: 0.9367\n",
            "No improvement for 10 epoch(s)\n",
            "Early stopping triggered at epoch 64\n"
          ]
        }
      ],
      "source": [
        "import torch\n",
        "import torch.nn as nn\n",
        "import torch.optim as optim\n",
        "from sklearn.metrics import accuracy_score\n",
        "import os\n",
        "\n",
        "# Device\n",
        "device = torch.device(\"cuda\" if torch.cuda.is_available() else \"cpu\")\n",
        "\n",
        "# Model\n",
        "num_classes = len(train_dataset.signer_id_map)\n",
        "model = SignatureResNet(num_classes=num_classes).to(device)\n",
        "\n",
        "# Weight Initialization\n",
        "def init_weights(m):\n",
        "    if isinstance(m, nn.Conv2d) or isinstance(m, nn.Linear):\n",
        "        nn.init.kaiming_normal_(m.weight)\n",
        "        if m.bias is not None:\n",
        "            nn.init.constant_(m.bias, 0)\n",
        "\n",
        "model.apply(init_weights)\n",
        "\n",
        "# Loss & Optimizer\n",
        "criterion = nn.CrossEntropyLoss()\n",
        "optimizer = optim.Adam(model.parameters(), lr=0.001)\n",
        "\n",
        "# Save Path\n",
        "save_dir = \"/content/drive/MyDrive/new_saved_models\"\n",
        "os.makedirs(save_dir, exist_ok=True)\n",
        "model_path = os.path.join(save_dir, \"signature_cnn_best.pth\")\n",
        "\n",
        "# Training Loop with Early Stopping\n",
        "num_epochs = 100\n",
        "patience = 10\n",
        "best_acc = 0.0\n",
        "epochs_no_improve = 0\n",
        "\n",
        "for epoch in range(num_epochs):\n",
        "    model.train()\n",
        "    train_loss = 0.0\n",
        "    train_preds = []\n",
        "    train_labels = []\n",
        "\n",
        "    for images, signer_labels, _ in train_loader:\n",
        "        images, signer_labels = images.to(device), signer_labels.to(device)\n",
        "\n",
        "        optimizer.zero_grad()\n",
        "        outputs = model(images)\n",
        "        loss = criterion(outputs, signer_labels)\n",
        "        loss.backward()\n",
        "        optimizer.step()\n",
        "\n",
        "        train_loss += loss.item() * images.size(0)\n",
        "        train_preds.extend(outputs.argmax(1).cpu().numpy())\n",
        "        train_labels.extend(signer_labels.cpu().numpy())\n",
        "\n",
        "    train_acc = accuracy_score(train_labels, train_preds)\n",
        "    avg_train_loss = train_loss / len(train_dataset)\n",
        "\n",
        "    print(f\"Epoch [{epoch+1}/{num_epochs}] \"\n",
        "          f\"Train Loss: {avg_train_loss:.4f} | Train Acc: {train_acc:.4f}\")\n",
        "\n",
        "    # Check for improvement\n",
        "    if train_acc > best_acc:\n",
        "        best_acc = train_acc\n",
        "        epochs_no_improve = 0\n",
        "        torch.save(model.state_dict(), model_path)\n",
        "        print(f\"Best model saved at epoch {epoch+1} with acc: {train_acc:.4f}\")\n",
        "    else:\n",
        "        epochs_no_improve += 1\n",
        "        print(f\"No improvement for {epochs_no_improve} epoch(s)\")\n",
        "\n",
        "    # Early stopping\n",
        "    if epochs_no_improve >= patience:\n",
        "        print(f\"Early stopping triggered at epoch {epoch+1}\")\n",
        "        break"
      ]
    },
    {
      "cell_type": "code",
      "source": [],
      "metadata": {
        "id": "RjVTHxf9VRrI"
      },
      "execution_count": 19,
      "outputs": []
    },
    {
      "cell_type": "markdown",
      "source": [
        "Testing"
      ],
      "metadata": {
        "id": "nK11oPewkg3j"
      }
    },
    {
      "cell_type": "code",
      "source": [
        "# Device\n",
        "device = torch.device(\"cuda\" if torch.cuda.is_available() else \"cpu\")\n",
        "\n",
        "# Model\n",
        "num_classes = len(train_dataset.signer_id_map)\n",
        "model = SignatureResNet(num_classes=num_classes).to(device)"
      ],
      "metadata": {
        "colab": {
          "base_uri": "https://localhost:8080/"
        },
        "id": "Vh23sddtldjL",
        "outputId": "948a662c-9710-42ed-aaa1-d3f4eb46f6dc"
      },
      "execution_count": 37,
      "outputs": [
        {
          "output_type": "stream",
          "name": "stderr",
          "text": [
            "/usr/local/lib/python3.11/dist-packages/torchvision/models/_utils.py:208: UserWarning: The parameter 'pretrained' is deprecated since 0.13 and may be removed in the future, please use 'weights' instead.\n",
            "  warnings.warn(\n",
            "/usr/local/lib/python3.11/dist-packages/torchvision/models/_utils.py:223: UserWarning: Arguments other than a weight enum or `None` for 'weights' are deprecated since 0.13 and may be removed in the future. The current behavior is equivalent to passing `weights=ResNet18_Weights.IMAGENET1K_V1`. You can also use `weights=ResNet18_Weights.DEFAULT` to get the most up-to-date weights.\n",
            "  warnings.warn(msg)\n"
          ]
        }
      ]
    },
    {
      "cell_type": "code",
      "source": [
        "model_path = \"/content/drive/MyDrive/new_saved_models/signature_cnn_best.pth\""
      ],
      "metadata": {
        "id": "-21hl6h7lj3P"
      },
      "execution_count": 38,
      "outputs": []
    },
    {
      "cell_type": "code",
      "source": [
        "import torch\n",
        "from sklearn.metrics import accuracy_score\n",
        "\n",
        "# Load the best saved model\n",
        "model.load_state_dict(torch.load(model_path))\n",
        "model.eval()\n",
        "\n",
        "# Move model to device\n",
        "model.to(device)\n",
        "\n",
        "# Evaluation loop\n",
        "test_preds = []\n",
        "test_labels = []\n",
        "\n",
        "with torch.no_grad():\n",
        "    for images, signer_labels, _ in train_loader:  # Reusing train_loader\n",
        "        images = images.to(device)\n",
        "        signer_labels = signer_labels.to(device)\n",
        "\n",
        "        outputs = model(images)\n",
        "        preds = outputs.argmax(1)\n",
        "\n",
        "        test_preds.extend(preds.cpu().numpy())\n",
        "        test_labels.extend(signer_labels.cpu().numpy())\n",
        "\n",
        "# Compute accuracy\n",
        "test_acc = accuracy_score(test_labels, test_preds)\n",
        "print(f\" Evaluation Accuracy on Training Data: {test_acc:.4f}\")\n"
      ],
      "metadata": {
        "colab": {
          "base_uri": "https://localhost:8080/"
        },
        "id": "K7dzPy3ckgep",
        "outputId": "c8e75597-164c-4fb7-fad9-257ddd3f3b73"
      },
      "execution_count": 39,
      "outputs": [
        {
          "output_type": "stream",
          "name": "stdout",
          "text": [
            " Evaluation Accuracy on Training Data: 0.9633\n"
          ]
        }
      ]
    },
    {
      "cell_type": "code",
      "source": [],
      "metadata": {
        "id": "purIPf9tl4H2"
      },
      "execution_count": 39,
      "outputs": []
    },
    {
      "cell_type": "markdown",
      "source": [
        "Testing by giving and input signature"
      ],
      "metadata": {
        "id": "d4z89qiFmvkQ"
      }
    },
    {
      "cell_type": "code",
      "source": [
        "signer_id_map = train_dataset.signer_id_map"
      ],
      "metadata": {
        "id": "WmHDbh_zqOAA"
      },
      "execution_count": 40,
      "outputs": []
    },
    {
      "cell_type": "code",
      "source": [
        "reverse_map = {v: k for k, v in signer_id_map.items()}"
      ],
      "metadata": {
        "id": "LAXEXI15qRKQ"
      },
      "execution_count": 41,
      "outputs": []
    },
    {
      "cell_type": "code",
      "source": [
        "print(train_dataset.signer_id_map)"
      ],
      "metadata": {
        "colab": {
          "base_uri": "https://localhost:8080/"
        },
        "id": "IZeUXX1_3o3d",
        "outputId": "5522bbc9-391a-4428-a471-f85c7370d537"
      },
      "execution_count": 42,
      "outputs": [
        {
          "output_type": "stream",
          "name": "stdout",
          "text": [
            "{'001': 0, '002': 1, '003': 2, '004': 3, '005': 4, '006': 5, '007': 6, '008': 7, '009': 8, '010': 9, '011': 10, '012': 11, '013': 12, '014': 13, '015': 14, '016': 15, '017': 16, '018': 17, '019': 18, '020': 19, '021': 20, '022': 21, '023': 22, '024': 23, '025': 24, '026': 25, '027': 26, '028': 27, '029': 28, '030': 29}\n"
          ]
        }
      ]
    },
    {
      "cell_type": "code",
      "source": [
        "print(reverse_map)"
      ],
      "metadata": {
        "colab": {
          "base_uri": "https://localhost:8080/"
        },
        "id": "Z6xLvORN3t9Z",
        "outputId": "679e3708-7b0f-4676-cbd1-539c3fae20de"
      },
      "execution_count": 43,
      "outputs": [
        {
          "output_type": "stream",
          "name": "stdout",
          "text": [
            "{0: '001', 1: '002', 2: '003', 3: '004', 4: '005', 5: '006', 6: '007', 7: '008', 8: '009', 9: '010', 10: '011', 11: '012', 12: '013', 13: '014', 14: '015', 15: '016', 16: '017', 17: '018', 18: '019', 19: '020', 20: '021', 21: '022', 22: '023', 23: '024', 24: '025', 25: '026', 26: '027', 27: '028', 28: '029', 29: '030'}\n"
          ]
        }
      ]
    },
    {
      "cell_type": "code",
      "source": [
        "model = SignatureResNet(num_classes=num_classes).to(device)\n",
        "model.load_state_dict(torch.load(model_path))"
      ],
      "metadata": {
        "colab": {
          "base_uri": "https://localhost:8080/"
        },
        "id": "euLmAP9XmvE4",
        "outputId": "8ea59410-4453-43d8-dbc6-3237db820eb3"
      },
      "execution_count": 44,
      "outputs": [
        {
          "output_type": "stream",
          "name": "stderr",
          "text": [
            "/usr/local/lib/python3.11/dist-packages/torchvision/models/_utils.py:208: UserWarning: The parameter 'pretrained' is deprecated since 0.13 and may be removed in the future, please use 'weights' instead.\n",
            "  warnings.warn(\n",
            "/usr/local/lib/python3.11/dist-packages/torchvision/models/_utils.py:223: UserWarning: Arguments other than a weight enum or `None` for 'weights' are deprecated since 0.13 and may be removed in the future. The current behavior is equivalent to passing `weights=ResNet18_Weights.IMAGENET1K_V1`. You can also use `weights=ResNet18_Weights.DEFAULT` to get the most up-to-date weights.\n",
            "  warnings.warn(msg)\n"
          ]
        },
        {
          "output_type": "execute_result",
          "data": {
            "text/plain": [
              "<All keys matched successfully>"
            ]
          },
          "metadata": {},
          "execution_count": 44
        }
      ]
    },
    {
      "cell_type": "code",
      "source": [
        "def predict_signer(image_path):\n",
        "    # Load and preprocess the image\n",
        "    image = preprocess_pipeline(image_path)\n",
        "    image = image.astype(np.float32) / 255.0\n",
        "    image = np.expand_dims(image, axis=0)  # [1, H, W] → channel dimension\n",
        "    image = np.expand_dims(image, axis=0)  # [1, 1, H, W] → batch dimension\n",
        "\n",
        "    image_tensor = torch.from_numpy(image).to(device)\n",
        "\n",
        "    with torch.no_grad():\n",
        "        output = model(image_tensor)\n",
        "        predicted_id = output.argmax(1).item()\n",
        "\n",
        "    #print(f\"Predicted Signer ID: {predicted_id}\")\n",
        "    return predicted_id"
      ],
      "metadata": {
        "id": "2hEcXe01m2OY"
      },
      "execution_count": 76,
      "outputs": []
    },
    {
      "cell_type": "code",
      "source": [
        "model = SignatureResNet(num_classes=num_classes).to(device)\n",
        "model.load_state_dict(torch.load(model_path))\n",
        "model.eval()"
      ],
      "metadata": {
        "colab": {
          "base_uri": "https://localhost:8080/"
        },
        "id": "K_I8YEYa8hz_",
        "outputId": "fa869219-d8eb-479f-82cd-2390f910e2a9"
      },
      "execution_count": 77,
      "outputs": [
        {
          "output_type": "stream",
          "name": "stderr",
          "text": [
            "/usr/local/lib/python3.11/dist-packages/torchvision/models/_utils.py:208: UserWarning: The parameter 'pretrained' is deprecated since 0.13 and may be removed in the future, please use 'weights' instead.\n",
            "  warnings.warn(\n",
            "/usr/local/lib/python3.11/dist-packages/torchvision/models/_utils.py:223: UserWarning: Arguments other than a weight enum or `None` for 'weights' are deprecated since 0.13 and may be removed in the future. The current behavior is equivalent to passing `weights=ResNet18_Weights.IMAGENET1K_V1`. You can also use `weights=ResNet18_Weights.DEFAULT` to get the most up-to-date weights.\n",
            "  warnings.warn(msg)\n"
          ]
        },
        {
          "output_type": "execute_result",
          "data": {
            "text/plain": [
              "SignatureResNet(\n",
              "  (base_model): ResNet(\n",
              "    (conv1): Conv2d(1, 64, kernel_size=(7, 7), stride=(2, 2), padding=(3, 3), bias=False)\n",
              "    (bn1): BatchNorm2d(64, eps=1e-05, momentum=0.1, affine=True, track_running_stats=True)\n",
              "    (relu): ReLU(inplace=True)\n",
              "    (maxpool): MaxPool2d(kernel_size=3, stride=2, padding=1, dilation=1, ceil_mode=False)\n",
              "    (layer1): Sequential(\n",
              "      (0): BasicBlock(\n",
              "        (conv1): Conv2d(64, 64, kernel_size=(3, 3), stride=(1, 1), padding=(1, 1), bias=False)\n",
              "        (bn1): BatchNorm2d(64, eps=1e-05, momentum=0.1, affine=True, track_running_stats=True)\n",
              "        (relu): ReLU(inplace=True)\n",
              "        (conv2): Conv2d(64, 64, kernel_size=(3, 3), stride=(1, 1), padding=(1, 1), bias=False)\n",
              "        (bn2): BatchNorm2d(64, eps=1e-05, momentum=0.1, affine=True, track_running_stats=True)\n",
              "      )\n",
              "      (1): BasicBlock(\n",
              "        (conv1): Conv2d(64, 64, kernel_size=(3, 3), stride=(1, 1), padding=(1, 1), bias=False)\n",
              "        (bn1): BatchNorm2d(64, eps=1e-05, momentum=0.1, affine=True, track_running_stats=True)\n",
              "        (relu): ReLU(inplace=True)\n",
              "        (conv2): Conv2d(64, 64, kernel_size=(3, 3), stride=(1, 1), padding=(1, 1), bias=False)\n",
              "        (bn2): BatchNorm2d(64, eps=1e-05, momentum=0.1, affine=True, track_running_stats=True)\n",
              "      )\n",
              "    )\n",
              "    (layer2): Sequential(\n",
              "      (0): BasicBlock(\n",
              "        (conv1): Conv2d(64, 128, kernel_size=(3, 3), stride=(2, 2), padding=(1, 1), bias=False)\n",
              "        (bn1): BatchNorm2d(128, eps=1e-05, momentum=0.1, affine=True, track_running_stats=True)\n",
              "        (relu): ReLU(inplace=True)\n",
              "        (conv2): Conv2d(128, 128, kernel_size=(3, 3), stride=(1, 1), padding=(1, 1), bias=False)\n",
              "        (bn2): BatchNorm2d(128, eps=1e-05, momentum=0.1, affine=True, track_running_stats=True)\n",
              "        (downsample): Sequential(\n",
              "          (0): Conv2d(64, 128, kernel_size=(1, 1), stride=(2, 2), bias=False)\n",
              "          (1): BatchNorm2d(128, eps=1e-05, momentum=0.1, affine=True, track_running_stats=True)\n",
              "        )\n",
              "      )\n",
              "      (1): BasicBlock(\n",
              "        (conv1): Conv2d(128, 128, kernel_size=(3, 3), stride=(1, 1), padding=(1, 1), bias=False)\n",
              "        (bn1): BatchNorm2d(128, eps=1e-05, momentum=0.1, affine=True, track_running_stats=True)\n",
              "        (relu): ReLU(inplace=True)\n",
              "        (conv2): Conv2d(128, 128, kernel_size=(3, 3), stride=(1, 1), padding=(1, 1), bias=False)\n",
              "        (bn2): BatchNorm2d(128, eps=1e-05, momentum=0.1, affine=True, track_running_stats=True)\n",
              "      )\n",
              "    )\n",
              "    (layer3): Sequential(\n",
              "      (0): BasicBlock(\n",
              "        (conv1): Conv2d(128, 256, kernel_size=(3, 3), stride=(2, 2), padding=(1, 1), bias=False)\n",
              "        (bn1): BatchNorm2d(256, eps=1e-05, momentum=0.1, affine=True, track_running_stats=True)\n",
              "        (relu): ReLU(inplace=True)\n",
              "        (conv2): Conv2d(256, 256, kernel_size=(3, 3), stride=(1, 1), padding=(1, 1), bias=False)\n",
              "        (bn2): BatchNorm2d(256, eps=1e-05, momentum=0.1, affine=True, track_running_stats=True)\n",
              "        (downsample): Sequential(\n",
              "          (0): Conv2d(128, 256, kernel_size=(1, 1), stride=(2, 2), bias=False)\n",
              "          (1): BatchNorm2d(256, eps=1e-05, momentum=0.1, affine=True, track_running_stats=True)\n",
              "        )\n",
              "      )\n",
              "      (1): BasicBlock(\n",
              "        (conv1): Conv2d(256, 256, kernel_size=(3, 3), stride=(1, 1), padding=(1, 1), bias=False)\n",
              "        (bn1): BatchNorm2d(256, eps=1e-05, momentum=0.1, affine=True, track_running_stats=True)\n",
              "        (relu): ReLU(inplace=True)\n",
              "        (conv2): Conv2d(256, 256, kernel_size=(3, 3), stride=(1, 1), padding=(1, 1), bias=False)\n",
              "        (bn2): BatchNorm2d(256, eps=1e-05, momentum=0.1, affine=True, track_running_stats=True)\n",
              "      )\n",
              "    )\n",
              "    (layer4): Sequential(\n",
              "      (0): BasicBlock(\n",
              "        (conv1): Conv2d(256, 512, kernel_size=(3, 3), stride=(2, 2), padding=(1, 1), bias=False)\n",
              "        (bn1): BatchNorm2d(512, eps=1e-05, momentum=0.1, affine=True, track_running_stats=True)\n",
              "        (relu): ReLU(inplace=True)\n",
              "        (conv2): Conv2d(512, 512, kernel_size=(3, 3), stride=(1, 1), padding=(1, 1), bias=False)\n",
              "        (bn2): BatchNorm2d(512, eps=1e-05, momentum=0.1, affine=True, track_running_stats=True)\n",
              "        (downsample): Sequential(\n",
              "          (0): Conv2d(256, 512, kernel_size=(1, 1), stride=(2, 2), bias=False)\n",
              "          (1): BatchNorm2d(512, eps=1e-05, momentum=0.1, affine=True, track_running_stats=True)\n",
              "        )\n",
              "      )\n",
              "      (1): BasicBlock(\n",
              "        (conv1): Conv2d(512, 512, kernel_size=(3, 3), stride=(1, 1), padding=(1, 1), bias=False)\n",
              "        (bn1): BatchNorm2d(512, eps=1e-05, momentum=0.1, affine=True, track_running_stats=True)\n",
              "        (relu): ReLU(inplace=True)\n",
              "        (conv2): Conv2d(512, 512, kernel_size=(3, 3), stride=(1, 1), padding=(1, 1), bias=False)\n",
              "        (bn2): BatchNorm2d(512, eps=1e-05, momentum=0.1, affine=True, track_running_stats=True)\n",
              "      )\n",
              "    )\n",
              "    (avgpool): AdaptiveAvgPool2d(output_size=(1, 1))\n",
              "    (fc): Sequential(\n",
              "      (0): Linear(in_features=512, out_features=256, bias=True)\n",
              "      (1): ReLU()\n",
              "      (2): Dropout(p=0.5, inplace=False)\n",
              "      (3): Linear(in_features=256, out_features=30, bias=True)\n",
              "    )\n",
              "  )\n",
              ")"
            ]
          },
          "metadata": {},
          "execution_count": 77
        }
      ]
    },
    {
      "cell_type": "code",
      "source": [
        "image_path = \"/content/signs_dataset/signatures/002_forg/02102002.png\"\n",
        "predicted_id = predict_signer(image_path)\n",
        "print(predicted_id)"
      ],
      "metadata": {
        "colab": {
          "base_uri": "https://localhost:8080/"
        },
        "id": "K1dpkxXdm_qx",
        "outputId": "fdb53869-da3b-4c16-9178-4f1beb890f34"
      },
      "execution_count": 79,
      "outputs": [
        {
          "output_type": "stream",
          "name": "stdout",
          "text": [
            "1\n"
          ]
        }
      ]
    },
    {
      "cell_type": "code",
      "source": [
        "predicted_signer_name = reverse_map[predicted_id]\n",
        "print(f\"🖋️ Predicted Signer ID: {predicted_id}\")\n",
        "print(f\"🔍 Predicted Signer Name: {predicted_signer_name}\")"
      ],
      "metadata": {
        "colab": {
          "base_uri": "https://localhost:8080/"
        },
        "id": "4hPZjQaGnUc-",
        "outputId": "27124947-36b1-4f30-842e-09aabd6ea1e1"
      },
      "execution_count": 80,
      "outputs": [
        {
          "output_type": "stream",
          "name": "stdout",
          "text": [
            "🖋️ Predicted Signer ID: 1\n",
            "🔍 Predicted Signer Name: 002\n"
          ]
        }
      ]
    },
    {
      "cell_type": "code",
      "source": [],
      "metadata": {
        "id": "NJ0QgUu0q_H3"
      },
      "execution_count": 80,
      "outputs": []
    },
    {
      "cell_type": "markdown",
      "source": [
        "# **Detection**"
      ],
      "metadata": {
        "id": "SoaZtJekyhGK"
      }
    },
    {
      "cell_type": "markdown",
      "source": [
        "getting the embeddings"
      ],
      "metadata": {
        "id": "3tAzA8zfy7A3"
      }
    },
    {
      "cell_type": "code",
      "source": [
        "import torch.nn.functional as F\n",
        "import os\n",
        "\n",
        "def get_embedding(image_path):\n",
        "    image = preprocess_pipeline(image_path)\n",
        "    image = image.astype(np.float32) / 255.0\n",
        "    image = np.expand_dims(image, axis=0)  # [1, H, W]\n",
        "    image = np.expand_dims(image, axis=0)  # [1, 1, H, W]\n",
        "    image_tensor = torch.from_numpy(image).to(device)\n",
        "\n",
        "    with torch.no_grad():\n",
        "        features = model.base_model.avgpool(model.base_model.layer4(model.base_model.layer3(\n",
        "            model.base_model.layer2(model.base_model.layer1(model.base_model.relu(\n",
        "                model.base_model.bn1(model.base_model.conv1(image_tensor))))))))\n",
        "        embedding = features.view(features.size(0), -1)  # Flatten\n",
        "    return embedding.squeeze(0)  # Remove batch dimension"
      ],
      "metadata": {
        "id": "yK25-nL1zL3l"
      },
      "execution_count": 81,
      "outputs": []
    },
    {
      "cell_type": "code",
      "source": [
        "from sklearn.metrics.pairwise import cosine_similarity\n",
        "import numpy as np\n",
        "\n",
        "def verify_signature(input_path, signer_id):\n",
        "    base_path = \"/content/signs_dataset/signatures\"\n",
        "    genuine_folder = os.path.join(base_path, signer_id)\n",
        "    forged_folder = os.path.join(base_path, signer_id + \"_forg\")\n",
        "\n",
        "    input_embedding = get_embedding(input_path)\n",
        "\n",
        "    genuine_scores = []\n",
        "    forged_scores = []\n",
        "\n",
        "    # Compare with genuine samples\n",
        "    for fname in os.listdir(genuine_folder):\n",
        "        if fname.endswith(('.png', '.jpg', '.jpeg')):\n",
        "            emb = get_embedding(os.path.join(genuine_folder, fname))\n",
        "            score = cosine_similarity([input_embedding.cpu().numpy()], [emb.cpu().numpy()])[0][0]\n",
        "            genuine_scores.append(score)\n",
        "\n",
        "    # Compare with forged samples\n",
        "    for fname in os.listdir(forged_folder):\n",
        "        if fname.endswith(('.png', '.jpg', '.jpeg')):\n",
        "            emb = get_embedding(os.path.join(forged_folder, fname))\n",
        "            score = cosine_similarity([input_embedding.cpu().numpy()], [emb.cpu().numpy()])[0][0]\n",
        "            forged_scores.append(score)\n",
        "\n",
        "    avg_genuine = np.mean(genuine_scores)\n",
        "    avg_forged = np.mean(forged_scores)\n",
        "\n",
        "    #print(f\"Avg Genuine Similarity: {avg_genuine:.4f}\")\n",
        "    #print(f\"Avg Forged Similarity: {avg_forged:.4f}\")\n",
        "\n",
        "    if avg_genuine > avg_forged:\n",
        "        #print(\"Prediction: Signature is likely GENUINE\")\n",
        "        return True, avg_genuine, avg_forged\n",
        "    else:\n",
        "        #print(\"Prediction: Signature is likely FORGED\")\n",
        "        return False, avg_genuine, avg_forged\n",
        "\n",
        ""
      ],
      "metadata": {
        "id": "bXgcIaI1y52X"
      },
      "execution_count": 82,
      "outputs": []
    },
    {
      "cell_type": "code",
      "source": [
        "is_real = verify_signature(image_path, predicted_signer_name)"
      ],
      "metadata": {
        "id": "Rfj3KbpbzGHu"
      },
      "execution_count": 83,
      "outputs": []
    },
    {
      "cell_type": "code",
      "source": [],
      "metadata": {
        "id": "xsbIcI8rzK_j"
      },
      "execution_count": 83,
      "outputs": []
    },
    {
      "cell_type": "markdown",
      "source": [
        "For New User verification"
      ],
      "metadata": {
        "id": "UYTYwLqgFgQj"
      }
    },
    {
      "cell_type": "code",
      "source": [
        "# Verification method\n",
        "def verify_signature_test(genuine_paths, test_path, threshold=0.9):\n",
        "    genuine_embeddings = [get_embedding(path) for path in genuine_paths]\n",
        "    test_embedding = get_embedding(test_path)\n",
        "\n",
        "    similarities = [\n",
        "        F.cosine_similarity(test_embedding.unsqueeze(0), g.unsqueeze(0)).item()\n",
        "        for g in genuine_embeddings\n",
        "    ]\n",
        "    avg_similarity = sum(similarities) / len(similarities)\n",
        "\n",
        "    result = \"Genuine\" if avg_similarity > threshold else \"Forged\"\n",
        "    return result, avg_similarity"
      ],
      "metadata": {
        "id": "Diz2bV8KBcvh"
      },
      "execution_count": 84,
      "outputs": []
    },
    {
      "cell_type": "code",
      "source": [],
      "metadata": {
        "id": "vdC4EywNBgfc"
      },
      "execution_count": 84,
      "outputs": []
    },
    {
      "cell_type": "code",
      "source": [
        "import ipywidgets as widgets\n",
        "from IPython.display import display, clear_output\n",
        "import tempfile\n",
        "import os\n",
        "\n",
        "# Widgets\n",
        "mode_selector = widgets.ToggleButtons(options=[\"Existing User\", \"New User\"], description=\"Mode:\")\n",
        "existing_upload = widgets.FileUpload(accept='.png,.jpg,.jpeg', description=\"Upload Test Sign\", multiple=False)\n",
        "new_genuine_upload = widgets.FileUpload(accept='.png,.jpg,.jpeg', description=\"Genuine Signs-5+\", multiple=True)\n",
        "new_test_upload = widgets.FileUpload(accept='.png,.jpg,.jpeg', description=\"Upload Test Sign\", multiple=False)\n",
        "verify_button = widgets.Button(description=\"Verify\", button_style='success')\n",
        "output = widgets.Output()\n",
        "\n",
        "# Helper to save uploaded bytes to temp file\n",
        "def save_temp_file(file_bytes, suffix=\".png\"):\n",
        "    temp = tempfile.NamedTemporaryFile(delete=False, suffix=suffix)\n",
        "    temp.write(file_bytes)\n",
        "    temp.close()\n",
        "    return temp.name\n",
        "\n",
        "# 🧹 Helper to reset widgets\n",
        "def reset_widgets():\n",
        "    existing_upload.value.clear()\n",
        "    new_genuine_upload.value.clear()\n",
        "    new_test_upload.value.clear()\n",
        "    existing_upload._counter = 0\n",
        "    new_genuine_upload._counter = 0\n",
        "    new_test_upload._counter = 0\n",
        "\n",
        "# Main logic\n",
        "def on_verify_clicked(b):\n",
        "    output.clear_output()\n",
        "    mode = mode_selector.value\n",
        "\n",
        "    with output:\n",
        "        if mode == \"Existing User\":\n",
        "            if not existing_upload.value:\n",
        "                print(\"Upload a test signature.\")\n",
        "                return\n",
        "            test_bytes = list(existing_upload.value.values())[0]['content']\n",
        "            test_path = save_temp_file(test_bytes)\n",
        "\n",
        "            predicted_id = predict_signer(test_path)\n",
        "            predicted_name = reverse_map[predicted_id]\n",
        "            print(f\"Predicted Signer ID: {predicted_id}\")\n",
        "            print(f\"Predicted ID: {predicted_id}\")\n",
        "            print(f\"Predicted Name: {predicted_name}\")\n",
        "\n",
        "            is_real, gen_sim, forg_sim = verify_signature(test_path, predicted_name)\n",
        "            print(f\"Avg Genuine Similarity: {gen_sim:.4f}\")\n",
        "            print(f\"Avg Forged Similarity: {forg_sim:.4f}\")\n",
        "            print(f\"Prediction: Signature is likely {'GENUINE' if is_real else 'FORGED'}\")\n",
        "            print(f\"Result: {'Genuine ✅' if is_real else 'Forged ❌'}\")\n",
        "\n",
        "            os.remove(test_path)\n",
        "\n",
        "        else:  # New User\n",
        "            if len(new_genuine_upload.value) < 5:\n",
        "                print(\"Upload at least 5 genuine samples.\")\n",
        "                return\n",
        "            if not new_test_upload.value:\n",
        "                print(\"Upload a test signature.\")\n",
        "                return\n",
        "\n",
        "            genuine_paths = [save_temp_file(file['content']) for file in new_genuine_upload.value.values()]\n",
        "            test_bytes = list(new_test_upload.value.values())[0]['content']\n",
        "            test_path = save_temp_file(test_bytes)\n",
        "\n",
        "            result, avg_sim = verify_signature_test(genuine_paths, test_path)\n",
        "            print(f\"Similarity: {avg_sim:.4f}\")\n",
        "            print(f\"Result: {result} {'✅' if result == 'Genuine' else '❌'}\")\n",
        "\n",
        "            for path in genuine_paths:\n",
        "                os.remove(path)\n",
        "            os.remove(test_path)\n",
        "\n",
        "        reset_widgets()\n",
        "        print(\"\\n✅ Verification complete. Ready for next input.\")\n",
        "\n",
        "\n",
        "verify_button.on_click(on_verify_clicked)\n",
        "\n",
        "# 🔄 Dynamic visibility\n",
        "def update_visibility(change):\n",
        "    if change['new'] == \"Existing User\":\n",
        "        existing_upload.layout.display = 'block'\n",
        "        new_genuine_upload.layout.display = 'none'\n",
        "        new_test_upload.layout.display = 'none'\n",
        "    else:\n",
        "        existing_upload.layout.display = 'none'\n",
        "        new_genuine_upload.layout.display = 'block'\n",
        "        new_test_upload.layout.display = 'block'\n",
        "\n",
        "mode_selector.observe(update_visibility, names='value')\n",
        "update_visibility({'new': mode_selector.value})  # Initial setup\n",
        "\n",
        "# 📦 Display interface\n",
        "display(widgets.VBox([\n",
        "    mode_selector,\n",
        "    existing_upload,\n",
        "    new_genuine_upload,\n",
        "    new_test_upload,\n",
        "    verify_button,\n",
        "    output\n",
        "]))"
      ],
      "metadata": {
        "colab": {
          "base_uri": "https://localhost:8080/",
          "height": 270,
          "referenced_widgets": [
            "12feeb2544d143be8289c86010f5949f",
            "8223110cb2d34c70890a1916a168076a",
            "6b2b2784ffd944eba561801fcc6252bc",
            "373a9886f7fa4d4f8069a2408b001bda",
            "1db8a33e764849b3a96f50653e3482f6",
            "f42aee89b5864745b774d97c3f75fe73",
            "35235183fd2143428e2e4b8bd87a5c54",
            "2f6939229d8d4545a0e7b73cab4cb747",
            "79f85250332442169b24270ae96ea346",
            "12236e90edbc40d186e7037941a65cfa",
            "7222b3a4dc8e4762a65d61d679de7439",
            "17fe319ffcb547e094644ec8b76142b5",
            "dc12720b674644d7abb6a2208476cce6",
            "73821c145e3947529e732cbf18e33f14",
            "33bc034dfbbc415f9a78c85417db569f",
            "039457835dbc41cca05fb9d7a62edddf",
            "0b7ed369e56844b5a57fdf10d0b06a1d",
            "4de13ec953aa4dee996d18a0a5f54f74",
            "2f026df7c230457c8db171b8cbac2689"
          ]
        },
        "id": "feudOqZNFffK",
        "outputId": "48fb4ef8-21a7-4015-894c-fea94736d133"
      },
      "execution_count": 85,
      "outputs": [
        {
          "output_type": "display_data",
          "data": {
            "text/plain": [
              "VBox(children=(ToggleButtons(description='Mode:', options=('Existing User', 'New User'), value='Existing User'…"
            ],
            "application/vnd.jupyter.widget-view+json": {
              "version_major": 2,
              "version_minor": 0,
              "model_id": "12feeb2544d143be8289c86010f5949f"
            }
          },
          "metadata": {}
        }
      ]
    },
    {
      "cell_type": "code",
      "source": [],
      "metadata": {
        "id": "T0qDJhQ1I5Ak"
      },
      "execution_count": 85,
      "outputs": []
    }
  ],
  "metadata": {
    "colab": {
      "provenance": [],
      "gpuType": "T4"
    },
    "kernelspec": {
      "display_name": "Python 3",
      "name": "python3"
    },
    "language_info": {
      "name": "python"
    },
    "widgets": {
      "application/vnd.jupyter.widget-state+json": {
        "state":{}
        "12feeb2544d143be8289c86010f5949f": {
          "model_module": "@jupyter-widgets/controls",
          "model_name": "VBoxModel",
          "model_module_version": "1.5.0",
          "state": {
            "_dom_classes": [],
            "_model_module": "@jupyter-widgets/controls",
            "_model_module_version": "1.5.0",
            "_model_name": "VBoxModel",
            "_view_count": null,
            "_view_module": "@jupyter-widgets/controls",
            "_view_module_version": "1.5.0",
            "_view_name": "VBoxView",
            "box_style": "",
            "children": [
              "IPY_MODEL_8223110cb2d34c70890a1916a168076a",
              "IPY_MODEL_6b2b2784ffd944eba561801fcc6252bc",
              "IPY_MODEL_373a9886f7fa4d4f8069a2408b001bda",
              "IPY_MODEL_1db8a33e764849b3a96f50653e3482f6",
              "IPY_MODEL_f42aee89b5864745b774d97c3f75fe73",
              "IPY_MODEL_35235183fd2143428e2e4b8bd87a5c54"
            ],
            "layout": "IPY_MODEL_2f6939229d8d4545a0e7b73cab4cb747"
          }
        },
        "8223110cb2d34c70890a1916a168076a": {
          "model_module": "@jupyter-widgets/controls",
          "model_name": "ToggleButtonsModel",
          "model_module_version": "1.5.0",
          "state": {
            "_dom_classes": [],
            "_model_module": "@jupyter-widgets/controls",
            "_model_module_version": "1.5.0",
            "_model_name": "ToggleButtonsModel",
            "_options_labels": [
              "Existing User",
              "New User"
            ],
            "_view_count": null,
            "_view_module": "@jupyter-widgets/controls",
            "_view_module_version": "1.5.0",
            "_view_name": "ToggleButtonsView",
            "button_style": "",
            "description": "Mode:",
            "description_tooltip": null,
            "disabled": false,
            "icons": [],
            "index": 0,
            "layout": "IPY_MODEL_79f85250332442169b24270ae96ea346",
            "style": "IPY_MODEL_12236e90edbc40d186e7037941a65cfa",
            "tooltips": []
          }
        },
        "6b2b2784ffd944eba561801fcc6252bc": {
          "model_module": "@jupyter-widgets/controls",
          "model_name": "FileUploadModel",
          "model_module_version": "1.5.0",
          "state": {
            "_counter": 0,
            "_dom_classes": [],
            "_model_module": "@jupyter-widgets/controls",
            "_model_module_version": "1.5.0",
            "_model_name": "FileUploadModel",
            "_view_count": null,
            "_view_module": "@jupyter-widgets/controls",
            "_view_module_version": "1.5.0",
            "_view_name": "FileUploadView",
            "accept": ".png,.jpg,.jpeg",
            "button_style": "",
            "data": [
              null
            ],
            "description": "Upload Test Sign",
            "description_tooltip": null,
            "disabled": false,
            "error": "",
            "icon": "upload",
            "layout": "IPY_MODEL_7222b3a4dc8e4762a65d61d679de7439",
            "metadata": [
              {
                "name": "00705023.png",
                "type": "image/png",
                "size": 2388387,
                "lastModified": 1570423788000
              }
            ],
            "multiple": false,
            "style": "IPY_MODEL_17fe319ffcb547e094644ec8b76142b5"
          }
        },
        "373a9886f7fa4d4f8069a2408b001bda": {
          "model_module": "@jupyter-widgets/controls",
          "model_name": "FileUploadModel",
          "model_module_version": "1.5.0",
          "state": {
            "_counter": 0,
            "_dom_classes": [],
            "_model_module": "@jupyter-widgets/controls",
            "_model_module_version": "1.5.0",
            "_model_name": "FileUploadModel",
            "_view_count": null,
            "_view_module": "@jupyter-widgets/controls",
            "_view_module_version": "1.5.0",
            "_view_name": "FileUploadView",
            "accept": ".png,.jpg,.jpeg",
            "button_style": "",
            "data": [],
            "description": "Genuine Signs-5+",
            "description_tooltip": null,
            "disabled": false,
            "error": "",
            "icon": "upload",
            "layout": "IPY_MODEL_dc12720b674644d7abb6a2208476cce6",
            "metadata": [],
            "multiple": true,
            "style": "IPY_MODEL_73821c145e3947529e732cbf18e33f14"
          }
        },
        "1db8a33e764849b3a96f50653e3482f6": {
          "model_module": "@jupyter-widgets/controls",
          "model_name": "FileUploadModel",
          "model_module_version": "1.5.0",
          "state": {
            "_counter": 0,
            "_dom_classes": [],
            "_model_module": "@jupyter-widgets/controls",
            "_model_module_version": "1.5.0",
            "_model_name": "FileUploadModel",
            "_view_count": null,
            "_view_module": "@jupyter-widgets/controls",
            "_view_module_version": "1.5.0",
            "_view_name": "FileUploadView",
            "accept": ".png,.jpg,.jpeg",
            "button_style": "",
            "data": [],
            "description": "Upload Test Sign",
            "description_tooltip": null,
            "disabled": false,
            "error": "",
            "icon": "upload",
            "layout": "IPY_MODEL_33bc034dfbbc415f9a78c85417db569f",
            "metadata": [],
            "multiple": false,
            "style": "IPY_MODEL_039457835dbc41cca05fb9d7a62edddf"
          }
        },
        "f42aee89b5864745b774d97c3f75fe73": {
          "model_module": "@jupyter-widgets/controls",
          "model_name": "ButtonModel",
          "model_module_version": "1.5.0",
          "state": {
            "_dom_classes": [],
            "_model_module": "@jupyter-widgets/controls",
            "_model_module_version": "1.5.0",
            "_model_name": "ButtonModel",
            "_view_count": null,
            "_view_module": "@jupyter-widgets/controls",
            "_view_module_version": "1.5.0",
            "_view_name": "ButtonView",
            "button_style": "success",
            "description": "Verify",
            "disabled": false,
            "icon": "",
            "layout": "IPY_MODEL_0b7ed369e56844b5a57fdf10d0b06a1d",
            "style": "IPY_MODEL_4de13ec953aa4dee996d18a0a5f54f74",
            "tooltip": ""
          }
        },
        "35235183fd2143428e2e4b8bd87a5c54": {
          "model_module": "@jupyter-widgets/output",
          "model_name": "OutputModel",
          "model_module_version": "1.0.0",
          "state": {
            "_dom_classes": [],
            "_model_module": "@jupyter-widgets/output",
            "_model_module_version": "1.0.0",
            "_model_name": "OutputModel",
            "_view_count": null,
            "_view_module": "@jupyter-widgets/output",
            "_view_module_version": "1.0.0",
            "_view_name": "OutputView",
            "layout": "IPY_MODEL_2f026df7c230457c8db171b8cbac2689",
            "msg_id": "",
            "outputs": [
              {
                "output_type": "stream",
                "name": "stdout",
                "text": [
                  "Predicted Signer ID: 21\n",
                  "Predicted ID: 21\n",
                  "Predicted Name: 022\n"
                ]
              },
              {
                "output_type": "stream",
                "name": "stdout",
                "text": [
                  "Avg Genuine Similarity: 0.9447\n",
                  "Avg Forged Similarity: 0.9707\n",
                  "Prediction: Signature is likely FORGED\n",
                  "Result: Forged ❌\n",
                  "\n",
                  "✅ Verification complete. Ready for next input.\n"
                ]
              }
            ]
          }
        },
        "2f6939229d8d4545a0e7b73cab4cb747": {
          "model_module": "@jupyter-widgets/base",
          "model_name": "LayoutModel",
          "model_module_version": "1.2.0",
          "state": {
            "_model_module": "@jupyter-widgets/base",
            "_model_module_version": "1.2.0",
            "_model_name": "LayoutModel",
            "_view_count": null,
            "_view_module": "@jupyter-widgets/base",
            "_view_module_version": "1.2.0",
            "_view_name": "LayoutView",
            "align_content": null,
            "align_items": null,
            "align_self": null,
            "border": null,
            "bottom": null,
            "display": null,
            "flex": null,
            "flex_flow": null,
            "grid_area": null,
            "grid_auto_columns": null,
            "grid_auto_flow": null,
            "grid_auto_rows": null,
            "grid_column": null,
            "grid_gap": null,
            "grid_row": null,
            "grid_template_areas": null,
            "grid_template_columns": null,
            "grid_template_rows": null,
            "height": null,
            "justify_content": null,
            "justify_items": null,
            "left": null,
            "margin": null,
            "max_height": null,
            "max_width": null,
            "min_height": null,
            "min_width": null,
            "object_fit": null,
            "object_position": null,
            "order": null,
            "overflow": null,
            "overflow_x": null,
            "overflow_y": null,
            "padding": null,
            "right": null,
            "top": null,
            "visibility": null,
            "width": null
          }
        },
        "79f85250332442169b24270ae96ea346": {
          "model_module": "@jupyter-widgets/base",
          "model_name": "LayoutModel",
          "model_module_version": "1.2.0",
          "state": {
            "_model_module": "@jupyter-widgets/base",
            "_model_module_version": "1.2.0",
            "_model_name": "LayoutModel",
            "_view_count": null,
            "_view_module": "@jupyter-widgets/base",
            "_view_module_version": "1.2.0",
            "_view_name": "LayoutView",
            "align_content": null,
            "align_items": null,
            "align_self": null,
            "border": null,
            "bottom": null,
            "display": null,
            "flex": null,
            "flex_flow": null,
            "grid_area": null,
            "grid_auto_columns": null,
            "grid_auto_flow": null,
            "grid_auto_rows": null,
            "grid_column": null,
            "grid_gap": null,
            "grid_row": null,
            "grid_template_areas": null,
            "grid_template_columns": null,
            "grid_template_rows": null,
            "height": null,
            "justify_content": null,
            "justify_items": null,
            "left": null,
            "margin": null,
            "max_height": null,
            "max_width": null,
            "min_height": null,
            "min_width": null,
            "object_fit": null,
            "object_position": null,
            "order": null,
            "overflow": null,
            "overflow_x": null,
            "overflow_y": null,
            "padding": null,
            "right": null,
            "top": null,
            "visibility": null,
            "width": null
          }
        },
        "12236e90edbc40d186e7037941a65cfa": {
          "model_module": "@jupyter-widgets/controls",
          "model_name": "ToggleButtonsStyleModel",
          "model_module_version": "1.5.0",
          "state": {
            "_model_module": "@jupyter-widgets/controls",
            "_model_module_version": "1.5.0",
            "_model_name": "ToggleButtonsStyleModel",
            "_view_count": null,
            "_view_module": "@jupyter-widgets/base",
            "_view_module_version": "1.2.0",
            "_view_name": "StyleView",
            "button_width": "",
            "description_width": "",
            "font_weight": ""
          }
        },
        "7222b3a4dc8e4762a65d61d679de7439": {
          "model_module": "@jupyter-widgets/base",
          "model_name": "LayoutModel",
          "model_module_version": "1.2.0",
          "state": {
            "_model_module": "@jupyter-widgets/base",
            "_model_module_version": "1.2.0",
            "_model_name": "LayoutModel",
            "_view_count": null,
            "_view_module": "@jupyter-widgets/base",
            "_view_module_version": "1.2.0",
            "_view_name": "LayoutView",
            "align_content": null,
            "align_items": null,
            "align_self": null,
            "border": null,
            "bottom": null,
            "display": "block",
            "flex": null,
            "flex_flow": null,
            "grid_area": null,
            "grid_auto_columns": null,
            "grid_auto_flow": null,
            "grid_auto_rows": null,
            "grid_column": null,
            "grid_gap": null,
            "grid_row": null,
            "grid_template_areas": null,
            "grid_template_columns": null,
            "grid_template_rows": null,
            "height": null,
            "justify_content": null,
            "justify_items": null,
            "left": null,
            "margin": null,
            "max_height": null,
            "max_width": null,
            "min_height": null,
            "min_width": null,
            "object_fit": null,
            "object_position": null,
            "order": null,
            "overflow": null,
            "overflow_x": null,
            "overflow_y": null,
            "padding": null,
            "right": null,
            "top": null,
            "visibility": null,
            "width": null
          }
        },
        "17fe319ffcb547e094644ec8b76142b5": {
          "model_module": "@jupyter-widgets/controls",
          "model_name": "ButtonStyleModel",
          "model_module_version": "1.5.0",
          "state": {
            "_model_module": "@jupyter-widgets/controls",
            "_model_module_version": "1.5.0",
            "_model_name": "ButtonStyleModel",
            "_view_count": null,
            "_view_module": "@jupyter-widgets/base",
            "_view_module_version": "1.2.0",
            "_view_name": "StyleView",
            "button_color": null,
            "font_weight": ""
          }
        },
        "dc12720b674644d7abb6a2208476cce6": {
          "model_module": "@jupyter-widgets/base",
          "model_name": "LayoutModel",
          "model_module_version": "1.2.0",
          "state": {
            "_model_module": "@jupyter-widgets/base",
            "_model_module_version": "1.2.0",
            "_model_name": "LayoutModel",
            "_view_count": null,
            "_view_module": "@jupyter-widgets/base",
            "_view_module_version": "1.2.0",
            "_view_name": "LayoutView",
            "align_content": null,
            "align_items": null,
            "align_self": null,
            "border": null,
            "bottom": null,
            "display": "none",
            "flex": null,
            "flex_flow": null,
            "grid_area": null,
            "grid_auto_columns": null,
            "grid_auto_flow": null,
            "grid_auto_rows": null,
            "grid_column": null,
            "grid_gap": null,
            "grid_row": null,
            "grid_template_areas": null,
            "grid_template_columns": null,
            "grid_template_rows": null,
            "height": null,
            "justify_content": null,
            "justify_items": null,
            "left": null,
            "margin": null,
            "max_height": null,
            "max_width": null,
            "min_height": null,
            "min_width": null,
            "object_fit": null,
            "object_position": null,
            "order": null,
            "overflow": null,
            "overflow_x": null,
            "overflow_y": null,
            "padding": null,
            "right": null,
            "top": null,
            "visibility": null,
            "width": null
          }
        },
        "73821c145e3947529e732cbf18e33f14": {
          "model_module": "@jupyter-widgets/controls",
          "model_name": "ButtonStyleModel",
          "model_module_version": "1.5.0",
          "state": {
            "_model_module": "@jupyter-widgets/controls",
            "_model_module_version": "1.5.0",
            "_model_name": "ButtonStyleModel",
            "_view_count": null,
            "_view_module": "@jupyter-widgets/base",
            "_view_module_version": "1.2.0",
            "_view_name": "StyleView",
            "button_color": null,
            "font_weight": ""
          }
        },
        "33bc034dfbbc415f9a78c85417db569f": {
          "model_module": "@jupyter-widgets/base",
          "model_name": "LayoutModel",
          "model_module_version": "1.2.0",
          "state": {
            "_model_module": "@jupyter-widgets/base",
            "_model_module_version": "1.2.0",
            "_model_name": "LayoutModel",
            "_view_count": null,
            "_view_module": "@jupyter-widgets/base",
            "_view_module_version": "1.2.0",
            "_view_name": "LayoutView",
            "align_content": null,
            "align_items": null,
            "align_self": null,
            "border": null,
            "bottom": null,
            "display": "none",
            "flex": null,
            "flex_flow": null,
            "grid_area": null,
            "grid_auto_columns": null,
            "grid_auto_flow": null,
            "grid_auto_rows": null,
            "grid_column": null,
            "grid_gap": null,
            "grid_row": null,
            "grid_template_areas": null,
            "grid_template_columns": null,
            "grid_template_rows": null,
            "height": null,
            "justify_content": null,
            "justify_items": null,
            "left": null,
            "margin": null,
            "max_height": null,
            "max_width": null,
            "min_height": null,
            "min_width": null,
            "object_fit": null,
            "object_position": null,
            "order": null,
            "overflow": null,
            "overflow_x": null,
            "overflow_y": null,
            "padding": null,
            "right": null,
            "top": null,
            "visibility": null,
            "width": null
          }
        },
        "039457835dbc41cca05fb9d7a62edddf": {
          "model_module": "@jupyter-widgets/controls",
          "model_name": "ButtonStyleModel",
          "model_module_version": "1.5.0",
          "state": {
            "_model_module": "@jupyter-widgets/controls",
            "_model_module_version": "1.5.0",
            "_model_name": "ButtonStyleModel",
            "_view_count": null,
            "_view_module": "@jupyter-widgets/base",
            "_view_module_version": "1.2.0",
            "_view_name": "StyleView",
            "button_color": null,
            "font_weight": ""
          }
        },
        "0b7ed369e56844b5a57fdf10d0b06a1d": {
          "model_module": "@jupyter-widgets/base",
          "model_name": "LayoutModel",
          "model_module_version": "1.2.0",
          "state": {
            "_model_module": "@jupyter-widgets/base",
            "_model_module_version": "1.2.0",
            "_model_name": "LayoutModel",
            "_view_count": null,
            "_view_module": "@jupyter-widgets/base",
            "_view_module_version": "1.2.0",
            "_view_name": "LayoutView",
            "align_content": null,
            "align_items": null,
            "align_self": null,
            "border": null,
            "bottom": null,
            "display": null,
            "flex": null,
            "flex_flow": null,
            "grid_area": null,
            "grid_auto_columns": null,
            "grid_auto_flow": null,
            "grid_auto_rows": null,
            "grid_column": null,
            "grid_gap": null,
            "grid_row": null,
            "grid_template_areas": null,
            "grid_template_columns": null,
            "grid_template_rows": null,
            "height": null,
            "justify_content": null,
            "justify_items": null,
            "left": null,
            "margin": null,
            "max_height": null,
            "max_width": null,
            "min_height": null,
            "min_width": null,
            "object_fit": null,
            "object_position": null,
            "order": null,
            "overflow": null,
            "overflow_x": null,
            "overflow_y": null,
            "padding": null,
            "right": null,
            "top": null,
            "visibility": null,
            "width": null
          }
        },
        "4de13ec953aa4dee996d18a0a5f54f74": {
          "model_module": "@jupyter-widgets/controls",
          "model_name": "ButtonStyleModel",
          "model_module_version": "1.5.0",
          "state": {
            "_model_module": "@jupyter-widgets/controls",
            "_model_module_version": "1.5.0",
            "_model_name": "ButtonStyleModel",
            "_view_count": null,
            "_view_module": "@jupyter-widgets/base",
            "_view_module_version": "1.2.0",
            "_view_name": "StyleView",
            "button_color": null,
            "font_weight": ""
          }
        },
        "2f026df7c230457c8db171b8cbac2689": {
          "model_module": "@jupyter-widgets/base",
          "model_name": "LayoutModel",
          "model_module_version": "1.2.0",
          "state": {
            "_model_module": "@jupyter-widgets/base",
            "_model_module_version": "1.2.0",
            "_model_name": "LayoutModel",
            "_view_count": null,
            "_view_module": "@jupyter-widgets/base",
            "_view_module_version": "1.2.0",
            "_view_name": "LayoutView",
            "align_content": null,
            "align_items": null,
            "align_self": null,
            "border": null,
            "bottom": null,
            "display": null,
            "flex": null,
            "flex_flow": null,
            "grid_area": null,
            "grid_auto_columns": null,
            "grid_auto_flow": null,
            "grid_auto_rows": null,
            "grid_column": null,
            "grid_gap": null,
            "grid_row": null,
            "grid_template_areas": null,
            "grid_template_columns": null,
            "grid_template_rows": null,
            "height": null,
            "justify_content": null,
            "justify_items": null,
            "left": null,
            "margin": null,
            "max_height": null,
            "max_width": null,
            "min_height": null,
            "min_width": null,
            "object_fit": null,
            "object_position": null,
            "order": null,
            "overflow": null,
            "overflow_x": null,
            "overflow_y": null,
            "padding": null,
            "right": null,
            "top": null,
            "visibility": null,
            "width": null
          }
        }
      }
    },
    "accelerator": "GPU"
  },
  "nbformat": 4,
  "nbformat_minor": 0
}
